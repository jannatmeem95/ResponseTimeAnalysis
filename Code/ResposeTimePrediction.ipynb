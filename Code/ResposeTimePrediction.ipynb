{
  "cells": [
    {
      "cell_type": "markdown",
      "source": [
        "#We read the posts.xml and Tags.xml files to extract the features that we feed to our regression model. The dictionar named \"questions\" contain all our features."
      ],
      "metadata": {
        "id": "_CJRqjrvz2Fc"
      }
    },
    {
      "cell_type": "code",
      "execution_count": null,
      "metadata": {
        "colab": {
          "base_uri": "https://localhost:8080/"
        },
        "id": "27QUATWMNTJD",
        "outputId": "bb08c090-05a8-495e-8841-94d24974331f"
      },
      "outputs": [
        {
          "output_type": "stream",
          "name": "stdout",
          "text": [
            "<Element 'posts' at 0x7f47a77a0590>\n",
            "69\n"
          ]
        }
      ],
      "source": [
        "# importing element tree\n",
        "# under the alias of ET\n",
        "import xml.etree.ElementTree as ET\n",
        "\n",
        "# Passing the path of the\n",
        "# xml document to enable the\n",
        "# parsing process\n",
        "tree = ET.parse('Posts.xml')\n",
        "\n",
        "# getting the parent tag of\n",
        "# the xml document\n",
        "root = tree.getroot()\n"
      ]
    },
    {
      "cell_type": "code",
      "execution_count": null,
      "metadata": {
        "colab": {
          "base_uri": "https://localhost:8080/"
        },
        "id": "Cm4AQr9P0EfU",
        "outputId": "a9b5cb3c-b994-497b-e98a-afd265b1b0a6"
      },
      "outputs": [
        {
          "output_type": "stream",
          "name": "stdout",
          "text": [
            "Mounted at /content/drive\n"
          ]
        }
      ],
      "source": [
        "from google.colab import drive\n",
        "drive.mount('/content/drive')"
      ]
    },
    {
      "cell_type": "code",
      "execution_count": null,
      "metadata": {
        "colab": {
          "base_uri": "https://localhost:8080/"
        },
        "id": "JEdF3_kgOk-c",
        "outputId": "e67c0041-f88d-4f82-c435-59f917891bec"
      },
      "outputs": [
        {
          "name": "stdout",
          "output_type": "stream",
          "text": [
            "<ruby>\n",
            "2014-09-29T20:06:18.613\n",
            "2015-01-25T20:33:15.580\n",
            "3\n"
          ]
        }
      ],
      "source": [
        "print((root[0].attrib)['Tags'])\n",
        "print((root[0].attrib)['CreationDate'])\n",
        "print((root[0].attrib)['LastActivityDate'])\n",
        "print((root[0].attrib)['AnswerCount'])"
      ]
    },
    {
      "cell_type": "code",
      "execution_count": null,
      "metadata": {
        "id": "Kc7fsY1ySqoU"
      },
      "outputs": [],
      "source": [
        "from datetime import datetime\n",
        "questions=dict()\n",
        "for post in root:\n",
        "  if post.attrib['PostTypeId']==\"1\":\n",
        "    attributes=post.attrib\n",
        "    postedTime= datetime.strptime(attributes['CreationDate'],'%Y-%m-%dT%H:%M:%S.%f')\n",
        "    answerCount=attributes['AnswerCount']\n",
        "    tags=attributes['Tags']\n",
        "    if 'AcceptedAnswerId' in attributes:\n",
        "      acceptedAnswerId=attributes['AcceptedAnswerId']\n",
        "    else:\n",
        "      acceptedAnswerId=\"\"\n",
        "    questions[post.attrib['Id']]={'Responses':[], 'Tags':tags, 'PostedTime':postedTime,'AcceptedAnswerId': acceptedAnswerId,'TitleLength': len(attributes['Title']),'AnswerCount':answerCount}\n",
        "\n",
        "#questions"
      ]
    },
    {
      "cell_type": "code",
      "execution_count": null,
      "metadata": {
        "colab": {
          "base_uri": "https://localhost:8080/"
        },
        "id": "mxA8LWUJRu6L",
        "outputId": "c819ec05-dea9-4e5c-e9a2-6201679a2d66"
      },
      "outputs": [
        {
          "name": "stdout",
          "output_type": "stream",
          "text": [
            "<class 'float'>\n"
          ]
        }
      ],
      "source": [
        "\n",
        "responses=dict()\n",
        "d=True\n",
        "for post in root:\n",
        "  if post.attrib['PostTypeId']==\"2\":\n",
        "    attributes=post.attrib\n",
        "    parentId=attributes['ParentId']\n",
        "    replyTime= datetime.strptime(attributes['CreationDate'],'%Y-%m-%dT%H:%M:%S.%f')\n",
        "    score=attributes['Score']\n",
        "    \n",
        "    postedTime=questions[parentId]['PostedTime']\n",
        "    responseTime=(replyTime-postedTime).seconds/60\n",
        "    if d==True:\n",
        "      print(type(responseTime))\n",
        "      d=False\n",
        "    if 'OwnerUserId' in attributes:\n",
        "      responses[post.attrib['Id']]={'OwnerId':attributes['OwnerUserId'], 'ParentId':parentId, 'ResponseTime':responseTime, 'Score':score}\n",
        "      questions[parentId]['Responses'].append({'ResponderId':attributes['OwnerUserId'],'ResponseId':post.attrib['Id'], 'ResponseTime':responseTime, 'Score':score})\n",
        "#responses"
      ]
    },
    {
      "cell_type": "code",
      "execution_count": null,
      "metadata": {
        "id": "VD_ABmQaXqGC"
      },
      "outputs": [],
      "source": [
        "questions"
      ]
    },
    {
      "cell_type": "code",
      "execution_count": null,
      "metadata": {
        "id": "rM0zpcj7ZvBY"
      },
      "outputs": [],
      "source": [
        "\n",
        "for postId in questions:\n",
        "  #print(postId)\n",
        "  temp=questions[postId]['Tags'].split('>')[:-1]\n",
        "  tagList=[]\n",
        "  for s in temp:\n",
        "    tagList.append(s[1:])\n",
        "\n",
        "  questions[postId]['Tags']=tagList\n",
        "  questions[postId]['Responses']=sorted(questions[postId]['Responses'],key=lambda x:x['ResponseTime'])\n",
        "  #print(questions[postId]['Responses'])\n",
        "  if len(questions[postId]['Responses'])>0:\n",
        "    questions[postId]['EarliestResponseTime']=questions[postId]['Responses'][0]['ResponseTime']\n",
        "  \n",
        "\n",
        "#questions"
      ]
    },
    {
      "cell_type": "code",
      "execution_count": null,
      "metadata": {
        "id": "VgUw5_Fcc6o0"
      },
      "outputs": [],
      "source": [
        "tree = ET.parse('Tags.xml')\n",
        "\n",
        "# getting the parent tag of\n",
        "# the xml document\n",
        "tags = tree.getroot()\n",
        "print(tags[0].attrib)\n",
        "tagNames=[]\n",
        "for tag in tags:\n",
        "  tagNames.append(tag.attrib['TagName'])\n",
        "\n",
        "tagNames"
      ]
    },
    {
      "cell_type": "code",
      "execution_count": null,
      "metadata": {
        "id": "tWjWa8ppk4pj"
      },
      "outputs": [],
      "source": [
        "questions"
      ]
    },
    {
      "cell_type": "code",
      "execution_count": null,
      "metadata": {
        "id": "lQqYWZ8DrYiV"
      },
      "outputs": [],
      "source": [
        "from collections import defaultdict\n",
        "def def1_value():\n",
        "  return dict()\n",
        "\n",
        "\n",
        "TagDict=defaultdict(def1_value) #[]\n",
        "\n",
        "for postId in questions:\n",
        "  tags=questions[postId]['Tags']\n",
        "  for tag in tags:\n",
        "    #TagDict[tag]=\n",
        "    for response in questions[postId]['Responses']:\n",
        "      if response['ResponderId'] in TagDict[tag].keys():\n",
        "        TagDict[tag][response['ResponderId']].append(response['ResponseTime'])\n",
        "      else:\n",
        "        TagDict[tag][response['ResponderId']]=[response['ResponseTime']]\n",
        "\n",
        "TagDict"
      ]
    },
    {
      "cell_type": "code",
      "execution_count": null,
      "metadata": {
        "id": "NKit32yoL473"
      },
      "outputs": [],
      "source": [
        "import numpy as np\n",
        "\n",
        "avgRTdict={}\n",
        "num_subs_t={} #[]\n",
        "for tag in TagDict:\n",
        "  for responderId in TagDict[tag]:\n",
        "    rtList = TagDict[tag][responderId]\n",
        "    Q1,Q3 = np.percentile(rtList , [25,75])\n",
        "    IQR = Q3 - Q1\n",
        "    ul = Q3+1.5*IQR\n",
        "    ll = Q1-1.5*IQR\n",
        "    rtListRemovingOutlier=[]\n",
        "    for responseTime in rtList:\n",
        "      if responseTime>=ll and responseTime<=ul:\n",
        "        rtListRemovingOutlier.append(responseTime)\n",
        "    avgResponseTime=sum(rtListRemovingOutlier) / len(rtListRemovingOutlier)\n",
        "    if avgResponseTime<=60:      \n",
        "      if tag not in avgRTdict:\n",
        "        avgRTdict[tag]=[avgResponseTime]\n",
        "      else:\n",
        "        avgRTdict[tag].append(avgResponseTime)\n",
        "  if tag not in avgRTdict:\n",
        "    num_subs_t[tag]=0\n",
        "  else:\n",
        "    num_subs_t[tag]=len(avgRTdict[tag])\n"
      ]
    },
    {
      "cell_type": "code",
      "execution_count": null,
      "metadata": {
        "id": "4VIfcrmTxEnk"
      },
      "outputs": [],
      "source": [
        "def def1_value():\n",
        "  return dict()\n",
        "active_subscribers=defaultdict(def1_value)\n",
        "for tag in TagDict:\n",
        "  for response in TagDict[tag]:\n",
        "    if len(TagDict[tag][response])>10:\n",
        "      if response in active_subscribers[tag].keys():\n",
        "          active_subscribers[tag][response].append(len(TagDict[tag][response]))\n",
        "      else:\n",
        "        active_subscribers[tag][response]=len(TagDict[tag][response])"
      ]
    },
    {
      "cell_type": "code",
      "execution_count": null,
      "metadata": {
        "id": "Gcorg_zdQIBi"
      },
      "outputs": [],
      "source": [
        "num_subs_ans={}\n",
        "for tag in active_subscribers:\n",
        "  if tag not in num_subs_ans:\n",
        "    num_subs_ans[tag]=len(active_subscribers[tag])\n",
        "num_subs_ans"
      ]
    },
    {
      "cell_type": "code",
      "execution_count": null,
      "metadata": {
        "colab": {
          "base_uri": "https://localhost:8080/",
          "height": 36
        },
        "id": "1SVmVYGwCRpA",
        "outputId": "9ac42d0e-2518-43a8-fa4e-1ce5a7dece6a"
      },
      "outputs": [
        {
          "data": {
            "application/vnd.google.colaboratory.intrinsic+json": {
              "type": "string"
            },
            "text/plain": [
              "'\\nx=df.loc[df[\"PostID\"] ==-1]\\ns=list(x[\"TagSpecificity\"])\\nif len(s)>0:\\n  print(s[0])\\n  print(type(s[0]))\\nelse:\\n  print(\"LOL\")\\n'"
            ]
          },
          "execution_count": 15,
          "metadata": {},
          "output_type": "execute_result"
        }
      ],
      "source": [
        "import pandas as pd\n",
        "\n",
        "df = pd.read_csv('bodyLength.csv')\n",
        "\n",
        "#print(df.head()) \n"
      ]
    },
    {
      "cell_type": "code",
      "execution_count": null,
      "metadata": {
        "colab": {
          "base_uri": "https://localhost:8080/"
        },
        "id": "67fydvCfD7Gl",
        "outputId": "c8f44d1c-5ead-4bd4-c858-6c5612a67b14"
      },
      "outputs": [
        {
          "name": "stdout",
          "output_type": "stream",
          "text": [
            "0\n"
          ]
        }
      ],
      "source": [
        "from pickle import NONE\n",
        "t=0\n",
        "b=True\n",
        "for postId in questions:\n",
        "  q=int(postId)\n",
        "  x=df.loc[df[\"PostID\"] ==q]\n",
        "  s=list(x[\"BodyLength\"])\n",
        "  if len(s)>0:\n",
        "    questions[postId]['BodyLength']=s[0]\n",
        "  else:\n",
        "    questions[postId]['BodyLength']=NONE\n",
        "    t+=1\n",
        "    if b==True:\n",
        "      print(postId)\n",
        "      b=False\n",
        "\n",
        "print(t)\n",
        "#questions"
      ]
    },
    {
      "cell_type": "code",
      "execution_count": null,
      "metadata": {
        "id": "cGMK-TWlJwi5"
      },
      "outputs": [],
      "source": [
        "for id in questions:\n",
        "  questions[id]['PostedTime']=str(questions[id]['PostedTime'])"
      ]
    },
    {
      "cell_type": "code",
      "execution_count": null,
      "metadata": {
        "id": "KYX_P5VPQ-qS"
      },
      "outputs": [],
      "source": [
        "questions"
      ]
    },
    {
      "cell_type": "code",
      "execution_count": null,
      "metadata": {
        "colab": {
          "base_uri": "https://localhost:8080/",
          "height": 336
        },
        "id": "-DZRHqZLLDdf",
        "outputId": "8c690464-c44a-4a97-9f57-1ceb4edcf0d1"
      },
      "outputs": [
        {
          "ename": "FileNotFoundError",
          "evalue": "ignored",
          "output_type": "error",
          "traceback": [
            "\u001b[0;31m---------------------------------------------------------------------------\u001b[0m",
            "\u001b[0;31mFileNotFoundError\u001b[0m                         Traceback (most recent call last)",
            "\u001b[0;32m<ipython-input-20-0c016d05bfc4>\u001b[0m in \u001b[0;36m<module>\u001b[0;34m()\u001b[0m\n\u001b[1;32m      4\u001b[0m     \u001b[0mpickle\u001b[0m\u001b[0;34m.\u001b[0m\u001b[0mdump\u001b[0m\u001b[0;34m(\u001b[0m\u001b[0mdata\u001b[0m\u001b[0;34m,\u001b[0m \u001b[0moutfile\u001b[0m\u001b[0;34m,\u001b[0m \u001b[0mprotocol\u001b[0m\u001b[0;34m=\u001b[0m\u001b[0mpickle\u001b[0m\u001b[0;34m.\u001b[0m\u001b[0mHIGHEST_PROTOCOL\u001b[0m\u001b[0;34m)\u001b[0m\u001b[0;34m\u001b[0m\u001b[0;34m\u001b[0m\u001b[0m\n\u001b[1;32m      5\u001b[0m \u001b[0;34m\u001b[0m\u001b[0m\n\u001b[0;32m----> 6\u001b[0;31m \u001b[0mwriteToPickle\u001b[0m\u001b[0;34m(\u001b[0m\u001b[0mquestions\u001b[0m\u001b[0;34m,\u001b[0m\u001b[0;34m'/content/drive/MyDrive/Spring2022/CS235/StackOverflowProject/postInfo.pickle'\u001b[0m\u001b[0;34m)\u001b[0m\u001b[0;34m\u001b[0m\u001b[0;34m\u001b[0m\u001b[0m\n\u001b[0m",
            "\u001b[0;32m<ipython-input-20-0c016d05bfc4>\u001b[0m in \u001b[0;36mwriteToPickle\u001b[0;34m(data, location)\u001b[0m\n\u001b[1;32m      1\u001b[0m \u001b[0;32mimport\u001b[0m \u001b[0mpickle\u001b[0m\u001b[0;34m\u001b[0m\u001b[0;34m\u001b[0m\u001b[0m\n\u001b[1;32m      2\u001b[0m \u001b[0;32mdef\u001b[0m \u001b[0mwriteToPickle\u001b[0m\u001b[0;34m(\u001b[0m\u001b[0mdata\u001b[0m\u001b[0;34m,\u001b[0m\u001b[0mlocation\u001b[0m\u001b[0;34m)\u001b[0m\u001b[0;34m:\u001b[0m\u001b[0;34m\u001b[0m\u001b[0;34m\u001b[0m\u001b[0m\n\u001b[0;32m----> 3\u001b[0;31m   \u001b[0;32mwith\u001b[0m \u001b[0mopen\u001b[0m\u001b[0;34m(\u001b[0m\u001b[0mlocation\u001b[0m\u001b[0;34m,\u001b[0m \u001b[0;34m'wb'\u001b[0m\u001b[0;34m)\u001b[0m \u001b[0;32mas\u001b[0m \u001b[0moutfile\u001b[0m\u001b[0;34m:\u001b[0m\u001b[0;34m\u001b[0m\u001b[0;34m\u001b[0m\u001b[0m\n\u001b[0m\u001b[1;32m      4\u001b[0m     \u001b[0mpickle\u001b[0m\u001b[0;34m.\u001b[0m\u001b[0mdump\u001b[0m\u001b[0;34m(\u001b[0m\u001b[0mdata\u001b[0m\u001b[0;34m,\u001b[0m \u001b[0moutfile\u001b[0m\u001b[0;34m,\u001b[0m \u001b[0mprotocol\u001b[0m\u001b[0;34m=\u001b[0m\u001b[0mpickle\u001b[0m\u001b[0;34m.\u001b[0m\u001b[0mHIGHEST_PROTOCOL\u001b[0m\u001b[0;34m)\u001b[0m\u001b[0;34m\u001b[0m\u001b[0;34m\u001b[0m\u001b[0m\n\u001b[1;32m      5\u001b[0m \u001b[0;34m\u001b[0m\u001b[0m\n",
            "\u001b[0;31mFileNotFoundError\u001b[0m: [Errno 2] No such file or directory: '/content/drive/MyDrive/Spring2022/CS235/StackOverflowProject/postInfo.pickle'"
          ]
        }
      ],
      "source": [
        "import pickle\n",
        "def writeToPickle(data,location):\n",
        "  with open(location, 'wb') as outfile:\n",
        "    pickle.dump(data, outfile, protocol=pickle.HIGHEST_PROTOCOL)\n",
        "\n",
        "writeToPickle(questions,'postInfo.pickle')"
      ]
    },
    {
      "cell_type": "code",
      "execution_count": null,
      "metadata": {
        "id": "Rsj3G8uNS3dH"
      },
      "outputs": [],
      "source": [
        "with open('postInfo.pickle', 'rb') as handle:\n",
        "    questions = pickle.load(handle)\n",
        "questions"
      ]
    },
    {
      "cell_type": "code",
      "execution_count": null,
      "metadata": {
        "id": "HpqEqoc-RdN0"
      },
      "outputs": [],
      "source": [
        "def def1_value():\n",
        "  return dict()\n",
        "active_subscribers=defaultdict(def1_value)\n",
        "for tag in TagDict:\n",
        "  for response in TagDict[tag]:\n",
        "    if len(TagDict[tag][response])>10:\n",
        "      if response in active_subscribers[tag].keys():\n",
        "          active_subscribers[tag][response].append(len(TagDict[tag][response]))\n",
        "      else:\n",
        "        active_subscribers[tag][response]=len(TagDict[tag][response])"
      ]
    },
    {
      "cell_type": "code",
      "execution_count": null,
      "metadata": {
        "id": "BShPsY2zaDAb"
      },
      "outputs": [],
      "source": [
        "#Tag information\n",
        "# Passing the path of the\n",
        "# xml document to enable the\n",
        "# parsing process\n",
        "tree = ET.parse('Tags.xml')\n",
        "\n",
        "root = tree.getroot()\n",
        "\n",
        "TagPopularityInfo={}\n",
        "\n",
        "for tag in root:\n",
        "  TagPopularityInfo[tag.attrib['TagName']]=int(tag.attrib['Count'])\n",
        "\n",
        "TagPopularityInfo\n"
      ]
    },
    {
      "cell_type": "markdown",
      "source": [
        "#Next, we build the attributes dataframe from the dictionary questions containing all our model features proposed by Vasudev et al. "
      ],
      "metadata": {
        "id": "KRh7GDskyEVd"
      }
    },
    {
      "cell_type": "code",
      "execution_count": null,
      "metadata": {
        "id": "eNRmJnBtPNw9"
      },
      "outputs": [],
      "source": [
        "from pandas.compat.numpy.function import ALLANY_DEFAULTS\n",
        "#Make feature set\n",
        "\n",
        "df = pd.DataFrame(columns=['PostId','title_length','body_length','num_subs_ans','percent_subs_ans','num_subs_t','percent_subs_t','popular_tag','avg_popularity', 'response_time'])\n",
        "#df= pd.DataFrame()\n",
        "for question in questions:\n",
        "  if 'EarliestResponseTime' not in questions[question]:\n",
        "    continue\n",
        "  \n",
        "  allAttributes={}\n",
        "  allAttributes['PostId']=question\n",
        "  tag_list = questions[question]['Tags']\n",
        "  total_num_subs_ans=0\n",
        "  total_num_subs_t=0\n",
        "  total_percent_num_subs_ans=0.0\n",
        "  total_percent_num_subs_t = 0.0\n",
        "  for tag in tag_list:\n",
        "    if tag in num_subs_ans:\n",
        "      total_num_subs_ans+=num_subs_ans[tag]\n",
        "      total_percent_num_subs_ans += float(num_subs_ans[tag]) / len(TagDict[tag])\n",
        "    if tag in num_subs_t:\n",
        "      total_num_subs_t+=num_subs_t[tag]\n",
        "      total_percent_num_subs_t += float(num_subs_t[tag]) / len(TagDict[tag])\n",
        "\n",
        "  \n",
        "  allAttributes['num_subs_ans'] = float(total_num_subs_ans)/ len(tag_list)\n",
        "  allAttributes['percent_subs_ans'] = total_percent_num_subs_ans/ len(tag_list)\n",
        "  allAttributes['num_subs_t'] = float(total_num_subs_t) / len(tag_list)\n",
        "  allAttributes['percent_subs_t'] = total_percent_num_subs_t / len(tag_list)\n",
        "\n",
        "  allAttributes['title_length'] = questions[question]['TitleLength']\n",
        "  allAttributes['body_length'] = questions[question]['BodyLength']\n",
        "\n",
        "  num_popular_tags=0\n",
        "\n",
        "  for tag in tag_list:\n",
        "    if tag in TagPopularityInfo:\n",
        "      if TagPopularityInfo[tag] > 25:\n",
        "        num_popular_tags+=1\n",
        "  allAttributes['popular_tag'] = num_popular_tags\n",
        "  questions[question]['NumPopularTags'] = num_popular_tags\n",
        "  allAttributes['avg_popularity'] = questions[question]['AvgPopularity']\n",
        "  allAttributes['response_time'] = questions[question]['EarliestResponseTime']\n",
        "  if allAttributes['response_time']<=180:\n",
        "    allAttributes['label'] = 1 \n",
        "  else:\n",
        "    allAttributes['label'] = 0\n",
        "  #print(allAttributes)\n",
        "  df = df.append(allAttributes, ignore_index=True)      \n"
      ]
    },
    {
      "cell_type": "code",
      "execution_count": null,
      "metadata": {
        "id": "q1xb5VaZqjqP"
      },
      "outputs": [],
      "source": [
        "df.to_csv('dataset.csv',index=False)"
      ]
    },
    {
      "cell_type": "code",
      "source": [
        "import pickle\n",
        "\n",
        "with open('tag_to_cluster.pickle', 'rb') as handle:\n",
        "    tag_cluster = pickle.load(handle)\n",
        "\n",
        "with open('cluster_to_avgPop.pickle', 'rb') as handle:\n",
        "    cluster_avgPop = pickle.load(handle)\n",
        "\n",
        "with open('clusters.pickle', 'rb') as handle:\n",
        "    clusters = pickle.load(handle)\n",
        "\n",
        "print(cluster_avgPop[tag_cluster['wordpress']])\n",
        "clusters\n",
        "\n",
        "from collections import defaultdict\n",
        "def defineDict():\n",
        "  return 0\n"
      ],
      "metadata": {
        "colab": {
          "base_uri": "https://localhost:8080/",
          "height": 213
        },
        "id": "E8vuVyofe-eg",
        "outputId": "70e6b4e2-4374-4adc-e3af-72367be5e1e3"
      },
      "execution_count": null,
      "outputs": [
        {
          "output_type": "stream",
          "name": "stdout",
          "text": [
            "302.875\n"
          ]
        },
        {
          "output_type": "execute_result",
          "data": {
            "text/plain": [
              "'\\ntags=[\\'a\\',\\'b\\', \\'c\\',\\'d\\', \\'e\\', \\'f\\']\\ntag_cluster={\\'a\\':1,\\'c\\':1, \\'b\\':2, \\'d\\': 2, \\'e\\':2, \\'f\\': 3}\\ncluster_avgPop={1:34, 2: 60, 3:5}\\nclusters={1:[\\'a\\',\\'c\\',\\'x\\',\\'y\\',\\'z\\',\\'g\\',\\'h\\',\\'i\\',\\'j\\',\\'k\\'], 2: [\\'b\\',\\'d\\',\\'e\\',\\'l\\',\\'m\\',\\'n\\'], 3:[\\'f\\',\\'t\\',\\'t\\',\\'t\\',\\'t\\',\\'t\\',\\'t\\',\\'t\\',\\'t\\',\\'t\\',\\'t\\',\\'t\\',\\'t\\',\\'t\\']}\\n#a,b,a,d,e,f #a->1:2\\n#a,b,a,b,b,f # b->2: 3\\n#\\n#for one question\\ndemo_dict=defaultdict(defineDict)\\nstack=[]\\nfor i in range(len(tags)):\\n\\n  if tags[i] not in stack:  \\n\\n    for j in range(len(tags)):\\n      if tag_cluster[tags[i]]==tag_cluster[tags[j]]:\\n        demo_dict[tag_cluster[tags[i]]]+=1\\n        tags[j]=tags[i]\\n        stack.append(tags[i])\\n    \\ntopic_relevance=0\\nfor cluster in demo_dict:\\n  print(str(cluster)+\":\")\\n  x=cluster_avgPop[cluster]*(demo_dict[cluster]/len(clusters[cluster]))\\n  print(x)\\n  topic_relevance+=x\\n\\n\\nprint(demo_dict)\\nprint(topic_relevance)\\n'"
            ],
            "application/vnd.google.colaboratory.intrinsic+json": {
              "type": "string"
            }
          },
          "metadata": {},
          "execution_count": 42
        }
      ]
    },
    {
      "cell_type": "code",
      "source": [
        "import pandas as pd\n",
        "\n",
        "df=pd.read_csv('dataset.csv', sep=',', header=0)\n",
        "df"
      ],
      "metadata": {
        "colab": {
          "base_uri": "https://localhost:8080/",
          "height": 488
        },
        "id": "knV2TKKTj0cv",
        "outputId": "1e74af67-62b8-43e1-e018-76dd1e5dde0a"
      },
      "execution_count": null,
      "outputs": [
        {
          "output_type": "execute_result",
          "data": {
            "text/plain": [
              "       PostId  title_length  body_length  num_subs_ans  percent_subs_ans  \\\n",
              "0          69            36          224     29.000000          0.076923   \n",
              "1          73            34          765      2.000000          0.031250   \n",
              "2          84            30          145      4.000000          0.049383   \n",
              "3         103            27         2087     21.000000          0.055851   \n",
              "4         106            23           42     25.000000          0.053419   \n",
              "...       ...           ...          ...           ...               ...   \n",
              "22201   82219            51         3637     18.333333          0.027509   \n",
              "22202   82223            10         1555     39.000000          0.078453   \n",
              "22203   82233            30          521      0.000000          0.000000   \n",
              "22204   82236            77          359     12.000000          0.047619   \n",
              "22205   82242            23          738     30.500000          0.054234   \n",
              "\n",
              "       num_subs_t  percent_subs_t  popular_tag  avg_popularity  response_time  \\\n",
              "0       59.000000        0.156499            1          1065.0       4.300000   \n",
              "1        9.000000        0.140625            1           122.0     119.016667   \n",
              "2       15.000000        0.185185            1           250.0     725.383333   \n",
              "3       43.000000        0.114362            1          1144.0       0.000000   \n",
              "4       57.000000        0.121795            1          1408.0     206.916667   \n",
              "...           ...             ...          ...             ...            ...   \n",
              "22201   36.666667        0.087923            2           925.0     648.433333   \n",
              "22202   54.500000        0.111563            2          2418.0      31.416667   \n",
              "22203   11.000000        0.197306            2            65.0     173.483333   \n",
              "22204   32.000000        0.126984            1           640.0      22.716667   \n",
              "22205   55.500000        0.176164            2          1944.0      12.016667   \n",
              "\n",
              "       label  \n",
              "0        1.0  \n",
              "1        1.0  \n",
              "2        0.0  \n",
              "3        1.0  \n",
              "4        0.0  \n",
              "...      ...  \n",
              "22201    0.0  \n",
              "22202    1.0  \n",
              "22203    1.0  \n",
              "22204    1.0  \n",
              "22205    1.0  \n",
              "\n",
              "[22206 rows x 11 columns]"
            ],
            "text/html": [
              "\n",
              "  <div id=\"df-d840dd9a-9ce6-478e-ab99-e96091332b18\">\n",
              "    <div class=\"colab-df-container\">\n",
              "      <div>\n",
              "<style scoped>\n",
              "    .dataframe tbody tr th:only-of-type {\n",
              "        vertical-align: middle;\n",
              "    }\n",
              "\n",
              "    .dataframe tbody tr th {\n",
              "        vertical-align: top;\n",
              "    }\n",
              "\n",
              "    .dataframe thead th {\n",
              "        text-align: right;\n",
              "    }\n",
              "</style>\n",
              "<table border=\"1\" class=\"dataframe\">\n",
              "  <thead>\n",
              "    <tr style=\"text-align: right;\">\n",
              "      <th></th>\n",
              "      <th>PostId</th>\n",
              "      <th>title_length</th>\n",
              "      <th>body_length</th>\n",
              "      <th>num_subs_ans</th>\n",
              "      <th>percent_subs_ans</th>\n",
              "      <th>num_subs_t</th>\n",
              "      <th>percent_subs_t</th>\n",
              "      <th>popular_tag</th>\n",
              "      <th>avg_popularity</th>\n",
              "      <th>response_time</th>\n",
              "      <th>label</th>\n",
              "    </tr>\n",
              "  </thead>\n",
              "  <tbody>\n",
              "    <tr>\n",
              "      <th>0</th>\n",
              "      <td>69</td>\n",
              "      <td>36</td>\n",
              "      <td>224</td>\n",
              "      <td>29.000000</td>\n",
              "      <td>0.076923</td>\n",
              "      <td>59.000000</td>\n",
              "      <td>0.156499</td>\n",
              "      <td>1</td>\n",
              "      <td>1065.0</td>\n",
              "      <td>4.300000</td>\n",
              "      <td>1.0</td>\n",
              "    </tr>\n",
              "    <tr>\n",
              "      <th>1</th>\n",
              "      <td>73</td>\n",
              "      <td>34</td>\n",
              "      <td>765</td>\n",
              "      <td>2.000000</td>\n",
              "      <td>0.031250</td>\n",
              "      <td>9.000000</td>\n",
              "      <td>0.140625</td>\n",
              "      <td>1</td>\n",
              "      <td>122.0</td>\n",
              "      <td>119.016667</td>\n",
              "      <td>1.0</td>\n",
              "    </tr>\n",
              "    <tr>\n",
              "      <th>2</th>\n",
              "      <td>84</td>\n",
              "      <td>30</td>\n",
              "      <td>145</td>\n",
              "      <td>4.000000</td>\n",
              "      <td>0.049383</td>\n",
              "      <td>15.000000</td>\n",
              "      <td>0.185185</td>\n",
              "      <td>1</td>\n",
              "      <td>250.0</td>\n",
              "      <td>725.383333</td>\n",
              "      <td>0.0</td>\n",
              "    </tr>\n",
              "    <tr>\n",
              "      <th>3</th>\n",
              "      <td>103</td>\n",
              "      <td>27</td>\n",
              "      <td>2087</td>\n",
              "      <td>21.000000</td>\n",
              "      <td>0.055851</td>\n",
              "      <td>43.000000</td>\n",
              "      <td>0.114362</td>\n",
              "      <td>1</td>\n",
              "      <td>1144.0</td>\n",
              "      <td>0.000000</td>\n",
              "      <td>1.0</td>\n",
              "    </tr>\n",
              "    <tr>\n",
              "      <th>4</th>\n",
              "      <td>106</td>\n",
              "      <td>23</td>\n",
              "      <td>42</td>\n",
              "      <td>25.000000</td>\n",
              "      <td>0.053419</td>\n",
              "      <td>57.000000</td>\n",
              "      <td>0.121795</td>\n",
              "      <td>1</td>\n",
              "      <td>1408.0</td>\n",
              "      <td>206.916667</td>\n",
              "      <td>0.0</td>\n",
              "    </tr>\n",
              "    <tr>\n",
              "      <th>...</th>\n",
              "      <td>...</td>\n",
              "      <td>...</td>\n",
              "      <td>...</td>\n",
              "      <td>...</td>\n",
              "      <td>...</td>\n",
              "      <td>...</td>\n",
              "      <td>...</td>\n",
              "      <td>...</td>\n",
              "      <td>...</td>\n",
              "      <td>...</td>\n",
              "      <td>...</td>\n",
              "    </tr>\n",
              "    <tr>\n",
              "      <th>22201</th>\n",
              "      <td>82219</td>\n",
              "      <td>51</td>\n",
              "      <td>3637</td>\n",
              "      <td>18.333333</td>\n",
              "      <td>0.027509</td>\n",
              "      <td>36.666667</td>\n",
              "      <td>0.087923</td>\n",
              "      <td>2</td>\n",
              "      <td>925.0</td>\n",
              "      <td>648.433333</td>\n",
              "      <td>0.0</td>\n",
              "    </tr>\n",
              "    <tr>\n",
              "      <th>22202</th>\n",
              "      <td>82223</td>\n",
              "      <td>10</td>\n",
              "      <td>1555</td>\n",
              "      <td>39.000000</td>\n",
              "      <td>0.078453</td>\n",
              "      <td>54.500000</td>\n",
              "      <td>0.111563</td>\n",
              "      <td>2</td>\n",
              "      <td>2418.0</td>\n",
              "      <td>31.416667</td>\n",
              "      <td>1.0</td>\n",
              "    </tr>\n",
              "    <tr>\n",
              "      <th>22203</th>\n",
              "      <td>82233</td>\n",
              "      <td>30</td>\n",
              "      <td>521</td>\n",
              "      <td>0.000000</td>\n",
              "      <td>0.000000</td>\n",
              "      <td>11.000000</td>\n",
              "      <td>0.197306</td>\n",
              "      <td>2</td>\n",
              "      <td>65.0</td>\n",
              "      <td>173.483333</td>\n",
              "      <td>1.0</td>\n",
              "    </tr>\n",
              "    <tr>\n",
              "      <th>22204</th>\n",
              "      <td>82236</td>\n",
              "      <td>77</td>\n",
              "      <td>359</td>\n",
              "      <td>12.000000</td>\n",
              "      <td>0.047619</td>\n",
              "      <td>32.000000</td>\n",
              "      <td>0.126984</td>\n",
              "      <td>1</td>\n",
              "      <td>640.0</td>\n",
              "      <td>22.716667</td>\n",
              "      <td>1.0</td>\n",
              "    </tr>\n",
              "    <tr>\n",
              "      <th>22205</th>\n",
              "      <td>82242</td>\n",
              "      <td>23</td>\n",
              "      <td>738</td>\n",
              "      <td>30.500000</td>\n",
              "      <td>0.054234</td>\n",
              "      <td>55.500000</td>\n",
              "      <td>0.176164</td>\n",
              "      <td>2</td>\n",
              "      <td>1944.0</td>\n",
              "      <td>12.016667</td>\n",
              "      <td>1.0</td>\n",
              "    </tr>\n",
              "  </tbody>\n",
              "</table>\n",
              "<p>22206 rows × 11 columns</p>\n",
              "</div>\n",
              "      <button class=\"colab-df-convert\" onclick=\"convertToInteractive('df-d840dd9a-9ce6-478e-ab99-e96091332b18')\"\n",
              "              title=\"Convert this dataframe to an interactive table.\"\n",
              "              style=\"display:none;\">\n",
              "        \n",
              "  <svg xmlns=\"http://www.w3.org/2000/svg\" height=\"24px\"viewBox=\"0 0 24 24\"\n",
              "       width=\"24px\">\n",
              "    <path d=\"M0 0h24v24H0V0z\" fill=\"none\"/>\n",
              "    <path d=\"M18.56 5.44l.94 2.06.94-2.06 2.06-.94-2.06-.94-.94-2.06-.94 2.06-2.06.94zm-11 1L8.5 8.5l.94-2.06 2.06-.94-2.06-.94L8.5 2.5l-.94 2.06-2.06.94zm10 10l.94 2.06.94-2.06 2.06-.94-2.06-.94-.94-2.06-.94 2.06-2.06.94z\"/><path d=\"M17.41 7.96l-1.37-1.37c-.4-.4-.92-.59-1.43-.59-.52 0-1.04.2-1.43.59L10.3 9.45l-7.72 7.72c-.78.78-.78 2.05 0 2.83L4 21.41c.39.39.9.59 1.41.59.51 0 1.02-.2 1.41-.59l7.78-7.78 2.81-2.81c.8-.78.8-2.07 0-2.86zM5.41 20L4 18.59l7.72-7.72 1.47 1.35L5.41 20z\"/>\n",
              "  </svg>\n",
              "      </button>\n",
              "      \n",
              "  <style>\n",
              "    .colab-df-container {\n",
              "      display:flex;\n",
              "      flex-wrap:wrap;\n",
              "      gap: 12px;\n",
              "    }\n",
              "\n",
              "    .colab-df-convert {\n",
              "      background-color: #E8F0FE;\n",
              "      border: none;\n",
              "      border-radius: 50%;\n",
              "      cursor: pointer;\n",
              "      display: none;\n",
              "      fill: #1967D2;\n",
              "      height: 32px;\n",
              "      padding: 0 0 0 0;\n",
              "      width: 32px;\n",
              "    }\n",
              "\n",
              "    .colab-df-convert:hover {\n",
              "      background-color: #E2EBFA;\n",
              "      box-shadow: 0px 1px 2px rgba(60, 64, 67, 0.3), 0px 1px 3px 1px rgba(60, 64, 67, 0.15);\n",
              "      fill: #174EA6;\n",
              "    }\n",
              "\n",
              "    [theme=dark] .colab-df-convert {\n",
              "      background-color: #3B4455;\n",
              "      fill: #D2E3FC;\n",
              "    }\n",
              "\n",
              "    [theme=dark] .colab-df-convert:hover {\n",
              "      background-color: #434B5C;\n",
              "      box-shadow: 0px 1px 3px 1px rgba(0, 0, 0, 0.15);\n",
              "      filter: drop-shadow(0px 1px 2px rgba(0, 0, 0, 0.3));\n",
              "      fill: #FFFFFF;\n",
              "    }\n",
              "  </style>\n",
              "\n",
              "      <script>\n",
              "        const buttonEl =\n",
              "          document.querySelector('#df-d840dd9a-9ce6-478e-ab99-e96091332b18 button.colab-df-convert');\n",
              "        buttonEl.style.display =\n",
              "          google.colab.kernel.accessAllowed ? 'block' : 'none';\n",
              "\n",
              "        async function convertToInteractive(key) {\n",
              "          const element = document.querySelector('#df-d840dd9a-9ce6-478e-ab99-e96091332b18');\n",
              "          const dataTable =\n",
              "            await google.colab.kernel.invokeFunction('convertToInteractive',\n",
              "                                                     [key], {});\n",
              "          if (!dataTable) return;\n",
              "\n",
              "          const docLinkHtml = 'Like what you see? Visit the ' +\n",
              "            '<a target=\"_blank\" href=https://colab.research.google.com/notebooks/data_table.ipynb>data table notebook</a>'\n",
              "            + ' to learn more about interactive tables.';\n",
              "          element.innerHTML = '';\n",
              "          dataTable['output_type'] = 'display_data';\n",
              "          await google.colab.output.renderOutput(dataTable, element);\n",
              "          const docLink = document.createElement('div');\n",
              "          docLink.innerHTML = docLinkHtml;\n",
              "          element.appendChild(docLink);\n",
              "        }\n",
              "      </script>\n",
              "    </div>\n",
              "  </div>\n",
              "  "
            ]
          },
          "metadata": {},
          "execution_count": 54
        }
      ]
    },
    {
      "cell_type": "code",
      "source": [
        "PostId=list(df['PostId'])\n",
        "#PostId\n",
        "\n",
        "id_tags=dict()\n",
        "for id in PostId:\n",
        "  if str(id) in questions:\n",
        "    id_tags[id]=questions[str(id)]['Tags']\n",
        "\n",
        "id_tags"
      ],
      "metadata": {
        "id": "TatXL9ZmkYTH"
      },
      "execution_count": null,
      "outputs": []
    },
    {
      "cell_type": "code",
      "source": [
        "post_topicRelevance=dict()\n",
        "p=list(cluster_avgPop.values())\n",
        "defaultVal=min(p)/10.0\n",
        "\n",
        "for id in id_tags:\n",
        "  demo_dict=defaultdict(defineDict)\n",
        "  stack=[]\n",
        "  tags=id_tags[id]\n",
        "  for i in range(len(tags)):\n",
        "\n",
        "    if tags[i] not in stack and tags[i] in tag_cluster:  \n",
        "      for j in range(len(tags)):\n",
        "        if tags[j] in tag_cluster:\n",
        "          if tag_cluster[tags[i]]==tag_cluster[tags[j]]:\n",
        "              demo_dict[tag_cluster[tags[i]]]+=1\n",
        "              tags[j]=tags[i]\n",
        "              stack.append(tags[i])\n",
        "      \n",
        "  topic_relevance=0\n",
        "  if len(demo_dict)>0:\n",
        "    for cluster in demo_dict:\n",
        "      print(str(cluster)+\":\")\n",
        "      x=cluster_avgPop[cluster]*(demo_dict[cluster]/len(clusters[cluster]))\n",
        "      print(x)\n",
        "      topic_relevance+=x\n",
        "  else:\n",
        "    topic_relevance=defaultVal\n",
        "  post_topicRelevance[id]=topic_relevance\n",
        "\n"
      ],
      "metadata": {
        "id": "_Ua_9Zmql1Xe"
      },
      "execution_count": null,
      "outputs": []
    },
    {
      "cell_type": "code",
      "source": [
        "topicRelevance=list()\n",
        "for id in PostId:\n",
        "  topicRelevance.append(post_topicRelevance[id])\n",
        "\n",
        "df['topic_relevance']=topicRelevance\n",
        "\n",
        "time=list(df['response_time'])\n",
        "label=list(df['label'])\n",
        "\n",
        "del df['response_time']\n",
        "del df['label']\n",
        "\n",
        "\n",
        "df['response_time']=time\n",
        "df['label']=label\n",
        "df"
      ],
      "metadata": {
        "colab": {
          "base_uri": "https://localhost:8080/",
          "height": 488
        },
        "id": "kBXnD85ao1wy",
        "outputId": "0806e169-17e8-43f0-8ac2-2c5f3f55b552"
      },
      "execution_count": null,
      "outputs": [
        {
          "output_type": "execute_result",
          "data": {
            "text/plain": [
              "       PostId  title_length  body_length  num_subs_ans  percent_subs_ans  \\\n",
              "0          69            36          224     29.000000          0.076923   \n",
              "1          73            34          765      2.000000          0.031250   \n",
              "2          84            30          145      4.000000          0.049383   \n",
              "3         103            27         2087     21.000000          0.055851   \n",
              "4         106            23           42     25.000000          0.053419   \n",
              "...       ...           ...          ...           ...               ...   \n",
              "22201   82219            51         3637     18.333333          0.027509   \n",
              "22202   82223            10         1555     39.000000          0.078453   \n",
              "22203   82233            30          521      0.000000          0.000000   \n",
              "22204   82236            77          359     12.000000          0.047619   \n",
              "22205   82242            23          738     30.500000          0.054234   \n",
              "\n",
              "       num_subs_t  percent_subs_t  popular_tag  avg_popularity  \\\n",
              "0       59.000000        0.156499            1          1065.0   \n",
              "1        9.000000        0.140625            1           122.0   \n",
              "2       15.000000        0.185185            1           250.0   \n",
              "3       43.000000        0.114362            1          1144.0   \n",
              "4       57.000000        0.121795            1          1408.0   \n",
              "...           ...             ...          ...             ...   \n",
              "22201   36.666667        0.087923            2           925.0   \n",
              "22202   54.500000        0.111563            2          2418.0   \n",
              "22203   11.000000        0.197306            2            65.0   \n",
              "22204   32.000000        0.126984            1           640.0   \n",
              "22205   55.500000        0.176164            2          1944.0   \n",
              "\n",
              "       topic_relevance  response_time  label  \n",
              "0            16.287500       4.300000    1.0  \n",
              "1            17.400000     119.016667    1.0  \n",
              "2             8.244444     725.383333    0.0  \n",
              "3            14.553571       0.000000    1.0  \n",
              "4            43.267857     206.916667    0.0  \n",
              "...                ...            ...    ...  \n",
              "22201       264.481481     648.433333    0.0  \n",
              "22202       690.857143      31.416667    1.0  \n",
              "22203        32.748889     173.483333    1.0  \n",
              "22204        30.260000      22.716667    1.0  \n",
              "22205       388.696429      12.016667    1.0  \n",
              "\n",
              "[22206 rows x 12 columns]"
            ],
            "text/html": [
              "\n",
              "  <div id=\"df-87838056-4c3e-4602-82a4-fd66615cf869\">\n",
              "    <div class=\"colab-df-container\">\n",
              "      <div>\n",
              "<style scoped>\n",
              "    .dataframe tbody tr th:only-of-type {\n",
              "        vertical-align: middle;\n",
              "    }\n",
              "\n",
              "    .dataframe tbody tr th {\n",
              "        vertical-align: top;\n",
              "    }\n",
              "\n",
              "    .dataframe thead th {\n",
              "        text-align: right;\n",
              "    }\n",
              "</style>\n",
              "<table border=\"1\" class=\"dataframe\">\n",
              "  <thead>\n",
              "    <tr style=\"text-align: right;\">\n",
              "      <th></th>\n",
              "      <th>PostId</th>\n",
              "      <th>title_length</th>\n",
              "      <th>body_length</th>\n",
              "      <th>num_subs_ans</th>\n",
              "      <th>percent_subs_ans</th>\n",
              "      <th>num_subs_t</th>\n",
              "      <th>percent_subs_t</th>\n",
              "      <th>popular_tag</th>\n",
              "      <th>avg_popularity</th>\n",
              "      <th>topic_relevance</th>\n",
              "      <th>response_time</th>\n",
              "      <th>label</th>\n",
              "    </tr>\n",
              "  </thead>\n",
              "  <tbody>\n",
              "    <tr>\n",
              "      <th>0</th>\n",
              "      <td>69</td>\n",
              "      <td>36</td>\n",
              "      <td>224</td>\n",
              "      <td>29.000000</td>\n",
              "      <td>0.076923</td>\n",
              "      <td>59.000000</td>\n",
              "      <td>0.156499</td>\n",
              "      <td>1</td>\n",
              "      <td>1065.0</td>\n",
              "      <td>16.287500</td>\n",
              "      <td>4.300000</td>\n",
              "      <td>1.0</td>\n",
              "    </tr>\n",
              "    <tr>\n",
              "      <th>1</th>\n",
              "      <td>73</td>\n",
              "      <td>34</td>\n",
              "      <td>765</td>\n",
              "      <td>2.000000</td>\n",
              "      <td>0.031250</td>\n",
              "      <td>9.000000</td>\n",
              "      <td>0.140625</td>\n",
              "      <td>1</td>\n",
              "      <td>122.0</td>\n",
              "      <td>17.400000</td>\n",
              "      <td>119.016667</td>\n",
              "      <td>1.0</td>\n",
              "    </tr>\n",
              "    <tr>\n",
              "      <th>2</th>\n",
              "      <td>84</td>\n",
              "      <td>30</td>\n",
              "      <td>145</td>\n",
              "      <td>4.000000</td>\n",
              "      <td>0.049383</td>\n",
              "      <td>15.000000</td>\n",
              "      <td>0.185185</td>\n",
              "      <td>1</td>\n",
              "      <td>250.0</td>\n",
              "      <td>8.244444</td>\n",
              "      <td>725.383333</td>\n",
              "      <td>0.0</td>\n",
              "    </tr>\n",
              "    <tr>\n",
              "      <th>3</th>\n",
              "      <td>103</td>\n",
              "      <td>27</td>\n",
              "      <td>2087</td>\n",
              "      <td>21.000000</td>\n",
              "      <td>0.055851</td>\n",
              "      <td>43.000000</td>\n",
              "      <td>0.114362</td>\n",
              "      <td>1</td>\n",
              "      <td>1144.0</td>\n",
              "      <td>14.553571</td>\n",
              "      <td>0.000000</td>\n",
              "      <td>1.0</td>\n",
              "    </tr>\n",
              "    <tr>\n",
              "      <th>4</th>\n",
              "      <td>106</td>\n",
              "      <td>23</td>\n",
              "      <td>42</td>\n",
              "      <td>25.000000</td>\n",
              "      <td>0.053419</td>\n",
              "      <td>57.000000</td>\n",
              "      <td>0.121795</td>\n",
              "      <td>1</td>\n",
              "      <td>1408.0</td>\n",
              "      <td>43.267857</td>\n",
              "      <td>206.916667</td>\n",
              "      <td>0.0</td>\n",
              "    </tr>\n",
              "    <tr>\n",
              "      <th>...</th>\n",
              "      <td>...</td>\n",
              "      <td>...</td>\n",
              "      <td>...</td>\n",
              "      <td>...</td>\n",
              "      <td>...</td>\n",
              "      <td>...</td>\n",
              "      <td>...</td>\n",
              "      <td>...</td>\n",
              "      <td>...</td>\n",
              "      <td>...</td>\n",
              "      <td>...</td>\n",
              "      <td>...</td>\n",
              "    </tr>\n",
              "    <tr>\n",
              "      <th>22201</th>\n",
              "      <td>82219</td>\n",
              "      <td>51</td>\n",
              "      <td>3637</td>\n",
              "      <td>18.333333</td>\n",
              "      <td>0.027509</td>\n",
              "      <td>36.666667</td>\n",
              "      <td>0.087923</td>\n",
              "      <td>2</td>\n",
              "      <td>925.0</td>\n",
              "      <td>264.481481</td>\n",
              "      <td>648.433333</td>\n",
              "      <td>0.0</td>\n",
              "    </tr>\n",
              "    <tr>\n",
              "      <th>22202</th>\n",
              "      <td>82223</td>\n",
              "      <td>10</td>\n",
              "      <td>1555</td>\n",
              "      <td>39.000000</td>\n",
              "      <td>0.078453</td>\n",
              "      <td>54.500000</td>\n",
              "      <td>0.111563</td>\n",
              "      <td>2</td>\n",
              "      <td>2418.0</td>\n",
              "      <td>690.857143</td>\n",
              "      <td>31.416667</td>\n",
              "      <td>1.0</td>\n",
              "    </tr>\n",
              "    <tr>\n",
              "      <th>22203</th>\n",
              "      <td>82233</td>\n",
              "      <td>30</td>\n",
              "      <td>521</td>\n",
              "      <td>0.000000</td>\n",
              "      <td>0.000000</td>\n",
              "      <td>11.000000</td>\n",
              "      <td>0.197306</td>\n",
              "      <td>2</td>\n",
              "      <td>65.0</td>\n",
              "      <td>32.748889</td>\n",
              "      <td>173.483333</td>\n",
              "      <td>1.0</td>\n",
              "    </tr>\n",
              "    <tr>\n",
              "      <th>22204</th>\n",
              "      <td>82236</td>\n",
              "      <td>77</td>\n",
              "      <td>359</td>\n",
              "      <td>12.000000</td>\n",
              "      <td>0.047619</td>\n",
              "      <td>32.000000</td>\n",
              "      <td>0.126984</td>\n",
              "      <td>1</td>\n",
              "      <td>640.0</td>\n",
              "      <td>30.260000</td>\n",
              "      <td>22.716667</td>\n",
              "      <td>1.0</td>\n",
              "    </tr>\n",
              "    <tr>\n",
              "      <th>22205</th>\n",
              "      <td>82242</td>\n",
              "      <td>23</td>\n",
              "      <td>738</td>\n",
              "      <td>30.500000</td>\n",
              "      <td>0.054234</td>\n",
              "      <td>55.500000</td>\n",
              "      <td>0.176164</td>\n",
              "      <td>2</td>\n",
              "      <td>1944.0</td>\n",
              "      <td>388.696429</td>\n",
              "      <td>12.016667</td>\n",
              "      <td>1.0</td>\n",
              "    </tr>\n",
              "  </tbody>\n",
              "</table>\n",
              "<p>22206 rows × 12 columns</p>\n",
              "</div>\n",
              "      <button class=\"colab-df-convert\" onclick=\"convertToInteractive('df-87838056-4c3e-4602-82a4-fd66615cf869')\"\n",
              "              title=\"Convert this dataframe to an interactive table.\"\n",
              "              style=\"display:none;\">\n",
              "        \n",
              "  <svg xmlns=\"http://www.w3.org/2000/svg\" height=\"24px\"viewBox=\"0 0 24 24\"\n",
              "       width=\"24px\">\n",
              "    <path d=\"M0 0h24v24H0V0z\" fill=\"none\"/>\n",
              "    <path d=\"M18.56 5.44l.94 2.06.94-2.06 2.06-.94-2.06-.94-.94-2.06-.94 2.06-2.06.94zm-11 1L8.5 8.5l.94-2.06 2.06-.94-2.06-.94L8.5 2.5l-.94 2.06-2.06.94zm10 10l.94 2.06.94-2.06 2.06-.94-2.06-.94-.94-2.06-.94 2.06-2.06.94z\"/><path d=\"M17.41 7.96l-1.37-1.37c-.4-.4-.92-.59-1.43-.59-.52 0-1.04.2-1.43.59L10.3 9.45l-7.72 7.72c-.78.78-.78 2.05 0 2.83L4 21.41c.39.39.9.59 1.41.59.51 0 1.02-.2 1.41-.59l7.78-7.78 2.81-2.81c.8-.78.8-2.07 0-2.86zM5.41 20L4 18.59l7.72-7.72 1.47 1.35L5.41 20z\"/>\n",
              "  </svg>\n",
              "      </button>\n",
              "      \n",
              "  <style>\n",
              "    .colab-df-container {\n",
              "      display:flex;\n",
              "      flex-wrap:wrap;\n",
              "      gap: 12px;\n",
              "    }\n",
              "\n",
              "    .colab-df-convert {\n",
              "      background-color: #E8F0FE;\n",
              "      border: none;\n",
              "      border-radius: 50%;\n",
              "      cursor: pointer;\n",
              "      display: none;\n",
              "      fill: #1967D2;\n",
              "      height: 32px;\n",
              "      padding: 0 0 0 0;\n",
              "      width: 32px;\n",
              "    }\n",
              "\n",
              "    .colab-df-convert:hover {\n",
              "      background-color: #E2EBFA;\n",
              "      box-shadow: 0px 1px 2px rgba(60, 64, 67, 0.3), 0px 1px 3px 1px rgba(60, 64, 67, 0.15);\n",
              "      fill: #174EA6;\n",
              "    }\n",
              "\n",
              "    [theme=dark] .colab-df-convert {\n",
              "      background-color: #3B4455;\n",
              "      fill: #D2E3FC;\n",
              "    }\n",
              "\n",
              "    [theme=dark] .colab-df-convert:hover {\n",
              "      background-color: #434B5C;\n",
              "      box-shadow: 0px 1px 3px 1px rgba(0, 0, 0, 0.15);\n",
              "      filter: drop-shadow(0px 1px 2px rgba(0, 0, 0, 0.3));\n",
              "      fill: #FFFFFF;\n",
              "    }\n",
              "  </style>\n",
              "\n",
              "      <script>\n",
              "        const buttonEl =\n",
              "          document.querySelector('#df-87838056-4c3e-4602-82a4-fd66615cf869 button.colab-df-convert');\n",
              "        buttonEl.style.display =\n",
              "          google.colab.kernel.accessAllowed ? 'block' : 'none';\n",
              "\n",
              "        async function convertToInteractive(key) {\n",
              "          const element = document.querySelector('#df-87838056-4c3e-4602-82a4-fd66615cf869');\n",
              "          const dataTable =\n",
              "            await google.colab.kernel.invokeFunction('convertToInteractive',\n",
              "                                                     [key], {});\n",
              "          if (!dataTable) return;\n",
              "\n",
              "          const docLinkHtml = 'Like what you see? Visit the ' +\n",
              "            '<a target=\"_blank\" href=https://colab.research.google.com/notebooks/data_table.ipynb>data table notebook</a>'\n",
              "            + ' to learn more about interactive tables.';\n",
              "          element.innerHTML = '';\n",
              "          dataTable['output_type'] = 'display_data';\n",
              "          await google.colab.output.renderOutput(dataTable, element);\n",
              "          const docLink = document.createElement('div');\n",
              "          docLink.innerHTML = docLinkHtml;\n",
              "          element.appendChild(docLink);\n",
              "        }\n",
              "      </script>\n",
              "    </div>\n",
              "  </div>\n",
              "  "
            ]
          },
          "metadata": {},
          "execution_count": 55
        }
      ]
    },
    {
      "cell_type": "code",
      "source": [
        "df.to_csv('datasetRelevance.csv',index=False)"
      ],
      "metadata": {
        "id": "lqmdkFD6qIA1"
      },
      "execution_count": null,
      "outputs": []
    },
    {
      "cell_type": "markdown",
      "source": [
        "#Scaling"
      ],
      "metadata": {
        "id": "xL3N7T8xqgSe"
      }
    },
    {
      "cell_type": "code",
      "source": [
        "data=pd.read_csv('datasetRelevance.csv')\n",
        "data"
      ],
      "metadata": {
        "colab": {
          "base_uri": "https://localhost:8080/",
          "height": 488
        },
        "id": "TwRzKS_iqz8V",
        "outputId": "69c785a5-d71c-439f-de96-b267d20e8e1d"
      },
      "execution_count": null,
      "outputs": [
        {
          "output_type": "execute_result",
          "data": {
            "text/plain": [
              "       PostId  title_length  body_length  num_subs_ans  percent_subs_ans  \\\n",
              "0          69            36          224     29.000000          0.076923   \n",
              "1          73            34          765      2.000000          0.031250   \n",
              "2          84            30          145      4.000000          0.049383   \n",
              "3         103            27         2087     21.000000          0.055851   \n",
              "4         106            23           42     25.000000          0.053419   \n",
              "...       ...           ...          ...           ...               ...   \n",
              "22201   82219            51         3637     18.333333          0.027509   \n",
              "22202   82223            10         1555     39.000000          0.078453   \n",
              "22203   82233            30          521      0.000000          0.000000   \n",
              "22204   82236            77          359     12.000000          0.047619   \n",
              "22205   82242            23          738     30.500000          0.054234   \n",
              "\n",
              "       num_subs_t  percent_subs_t  popular_tag  avg_popularity  \\\n",
              "0       59.000000        0.156499            1          1065.0   \n",
              "1        9.000000        0.140625            1           122.0   \n",
              "2       15.000000        0.185185            1           250.0   \n",
              "3       43.000000        0.114362            1          1144.0   \n",
              "4       57.000000        0.121795            1          1408.0   \n",
              "...           ...             ...          ...             ...   \n",
              "22201   36.666667        0.087923            2           925.0   \n",
              "22202   54.500000        0.111563            2          2418.0   \n",
              "22203   11.000000        0.197306            2            65.0   \n",
              "22204   32.000000        0.126984            1           640.0   \n",
              "22205   55.500000        0.176164            2          1944.0   \n",
              "\n",
              "       topic_relevance  response_time  label  \n",
              "0            16.287500       4.300000    1.0  \n",
              "1            17.400000     119.016667    1.0  \n",
              "2             8.244444     725.383333    0.0  \n",
              "3            14.553571       0.000000    1.0  \n",
              "4            43.267857     206.916667    0.0  \n",
              "...                ...            ...    ...  \n",
              "22201       264.481481     648.433333    0.0  \n",
              "22202       690.857143      31.416667    1.0  \n",
              "22203        32.748889     173.483333    1.0  \n",
              "22204        30.260000      22.716667    1.0  \n",
              "22205       388.696429      12.016667    1.0  \n",
              "\n",
              "[22206 rows x 12 columns]"
            ],
            "text/html": [
              "\n",
              "  <div id=\"df-378c8e98-9dc8-4c17-accc-19db96140520\">\n",
              "    <div class=\"colab-df-container\">\n",
              "      <div>\n",
              "<style scoped>\n",
              "    .dataframe tbody tr th:only-of-type {\n",
              "        vertical-align: middle;\n",
              "    }\n",
              "\n",
              "    .dataframe tbody tr th {\n",
              "        vertical-align: top;\n",
              "    }\n",
              "\n",
              "    .dataframe thead th {\n",
              "        text-align: right;\n",
              "    }\n",
              "</style>\n",
              "<table border=\"1\" class=\"dataframe\">\n",
              "  <thead>\n",
              "    <tr style=\"text-align: right;\">\n",
              "      <th></th>\n",
              "      <th>PostId</th>\n",
              "      <th>title_length</th>\n",
              "      <th>body_length</th>\n",
              "      <th>num_subs_ans</th>\n",
              "      <th>percent_subs_ans</th>\n",
              "      <th>num_subs_t</th>\n",
              "      <th>percent_subs_t</th>\n",
              "      <th>popular_tag</th>\n",
              "      <th>avg_popularity</th>\n",
              "      <th>topic_relevance</th>\n",
              "      <th>response_time</th>\n",
              "      <th>label</th>\n",
              "    </tr>\n",
              "  </thead>\n",
              "  <tbody>\n",
              "    <tr>\n",
              "      <th>0</th>\n",
              "      <td>69</td>\n",
              "      <td>36</td>\n",
              "      <td>224</td>\n",
              "      <td>29.000000</td>\n",
              "      <td>0.076923</td>\n",
              "      <td>59.000000</td>\n",
              "      <td>0.156499</td>\n",
              "      <td>1</td>\n",
              "      <td>1065.0</td>\n",
              "      <td>16.287500</td>\n",
              "      <td>4.300000</td>\n",
              "      <td>1.0</td>\n",
              "    </tr>\n",
              "    <tr>\n",
              "      <th>1</th>\n",
              "      <td>73</td>\n",
              "      <td>34</td>\n",
              "      <td>765</td>\n",
              "      <td>2.000000</td>\n",
              "      <td>0.031250</td>\n",
              "      <td>9.000000</td>\n",
              "      <td>0.140625</td>\n",
              "      <td>1</td>\n",
              "      <td>122.0</td>\n",
              "      <td>17.400000</td>\n",
              "      <td>119.016667</td>\n",
              "      <td>1.0</td>\n",
              "    </tr>\n",
              "    <tr>\n",
              "      <th>2</th>\n",
              "      <td>84</td>\n",
              "      <td>30</td>\n",
              "      <td>145</td>\n",
              "      <td>4.000000</td>\n",
              "      <td>0.049383</td>\n",
              "      <td>15.000000</td>\n",
              "      <td>0.185185</td>\n",
              "      <td>1</td>\n",
              "      <td>250.0</td>\n",
              "      <td>8.244444</td>\n",
              "      <td>725.383333</td>\n",
              "      <td>0.0</td>\n",
              "    </tr>\n",
              "    <tr>\n",
              "      <th>3</th>\n",
              "      <td>103</td>\n",
              "      <td>27</td>\n",
              "      <td>2087</td>\n",
              "      <td>21.000000</td>\n",
              "      <td>0.055851</td>\n",
              "      <td>43.000000</td>\n",
              "      <td>0.114362</td>\n",
              "      <td>1</td>\n",
              "      <td>1144.0</td>\n",
              "      <td>14.553571</td>\n",
              "      <td>0.000000</td>\n",
              "      <td>1.0</td>\n",
              "    </tr>\n",
              "    <tr>\n",
              "      <th>4</th>\n",
              "      <td>106</td>\n",
              "      <td>23</td>\n",
              "      <td>42</td>\n",
              "      <td>25.000000</td>\n",
              "      <td>0.053419</td>\n",
              "      <td>57.000000</td>\n",
              "      <td>0.121795</td>\n",
              "      <td>1</td>\n",
              "      <td>1408.0</td>\n",
              "      <td>43.267857</td>\n",
              "      <td>206.916667</td>\n",
              "      <td>0.0</td>\n",
              "    </tr>\n",
              "    <tr>\n",
              "      <th>...</th>\n",
              "      <td>...</td>\n",
              "      <td>...</td>\n",
              "      <td>...</td>\n",
              "      <td>...</td>\n",
              "      <td>...</td>\n",
              "      <td>...</td>\n",
              "      <td>...</td>\n",
              "      <td>...</td>\n",
              "      <td>...</td>\n",
              "      <td>...</td>\n",
              "      <td>...</td>\n",
              "      <td>...</td>\n",
              "    </tr>\n",
              "    <tr>\n",
              "      <th>22201</th>\n",
              "      <td>82219</td>\n",
              "      <td>51</td>\n",
              "      <td>3637</td>\n",
              "      <td>18.333333</td>\n",
              "      <td>0.027509</td>\n",
              "      <td>36.666667</td>\n",
              "      <td>0.087923</td>\n",
              "      <td>2</td>\n",
              "      <td>925.0</td>\n",
              "      <td>264.481481</td>\n",
              "      <td>648.433333</td>\n",
              "      <td>0.0</td>\n",
              "    </tr>\n",
              "    <tr>\n",
              "      <th>22202</th>\n",
              "      <td>82223</td>\n",
              "      <td>10</td>\n",
              "      <td>1555</td>\n",
              "      <td>39.000000</td>\n",
              "      <td>0.078453</td>\n",
              "      <td>54.500000</td>\n",
              "      <td>0.111563</td>\n",
              "      <td>2</td>\n",
              "      <td>2418.0</td>\n",
              "      <td>690.857143</td>\n",
              "      <td>31.416667</td>\n",
              "      <td>1.0</td>\n",
              "    </tr>\n",
              "    <tr>\n",
              "      <th>22203</th>\n",
              "      <td>82233</td>\n",
              "      <td>30</td>\n",
              "      <td>521</td>\n",
              "      <td>0.000000</td>\n",
              "      <td>0.000000</td>\n",
              "      <td>11.000000</td>\n",
              "      <td>0.197306</td>\n",
              "      <td>2</td>\n",
              "      <td>65.0</td>\n",
              "      <td>32.748889</td>\n",
              "      <td>173.483333</td>\n",
              "      <td>1.0</td>\n",
              "    </tr>\n",
              "    <tr>\n",
              "      <th>22204</th>\n",
              "      <td>82236</td>\n",
              "      <td>77</td>\n",
              "      <td>359</td>\n",
              "      <td>12.000000</td>\n",
              "      <td>0.047619</td>\n",
              "      <td>32.000000</td>\n",
              "      <td>0.126984</td>\n",
              "      <td>1</td>\n",
              "      <td>640.0</td>\n",
              "      <td>30.260000</td>\n",
              "      <td>22.716667</td>\n",
              "      <td>1.0</td>\n",
              "    </tr>\n",
              "    <tr>\n",
              "      <th>22205</th>\n",
              "      <td>82242</td>\n",
              "      <td>23</td>\n",
              "      <td>738</td>\n",
              "      <td>30.500000</td>\n",
              "      <td>0.054234</td>\n",
              "      <td>55.500000</td>\n",
              "      <td>0.176164</td>\n",
              "      <td>2</td>\n",
              "      <td>1944.0</td>\n",
              "      <td>388.696429</td>\n",
              "      <td>12.016667</td>\n",
              "      <td>1.0</td>\n",
              "    </tr>\n",
              "  </tbody>\n",
              "</table>\n",
              "<p>22206 rows × 12 columns</p>\n",
              "</div>\n",
              "      <button class=\"colab-df-convert\" onclick=\"convertToInteractive('df-378c8e98-9dc8-4c17-accc-19db96140520')\"\n",
              "              title=\"Convert this dataframe to an interactive table.\"\n",
              "              style=\"display:none;\">\n",
              "        \n",
              "  <svg xmlns=\"http://www.w3.org/2000/svg\" height=\"24px\"viewBox=\"0 0 24 24\"\n",
              "       width=\"24px\">\n",
              "    <path d=\"M0 0h24v24H0V0z\" fill=\"none\"/>\n",
              "    <path d=\"M18.56 5.44l.94 2.06.94-2.06 2.06-.94-2.06-.94-.94-2.06-.94 2.06-2.06.94zm-11 1L8.5 8.5l.94-2.06 2.06-.94-2.06-.94L8.5 2.5l-.94 2.06-2.06.94zm10 10l.94 2.06.94-2.06 2.06-.94-2.06-.94-.94-2.06-.94 2.06-2.06.94z\"/><path d=\"M17.41 7.96l-1.37-1.37c-.4-.4-.92-.59-1.43-.59-.52 0-1.04.2-1.43.59L10.3 9.45l-7.72 7.72c-.78.78-.78 2.05 0 2.83L4 21.41c.39.39.9.59 1.41.59.51 0 1.02-.2 1.41-.59l7.78-7.78 2.81-2.81c.8-.78.8-2.07 0-2.86zM5.41 20L4 18.59l7.72-7.72 1.47 1.35L5.41 20z\"/>\n",
              "  </svg>\n",
              "      </button>\n",
              "      \n",
              "  <style>\n",
              "    .colab-df-container {\n",
              "      display:flex;\n",
              "      flex-wrap:wrap;\n",
              "      gap: 12px;\n",
              "    }\n",
              "\n",
              "    .colab-df-convert {\n",
              "      background-color: #E8F0FE;\n",
              "      border: none;\n",
              "      border-radius: 50%;\n",
              "      cursor: pointer;\n",
              "      display: none;\n",
              "      fill: #1967D2;\n",
              "      height: 32px;\n",
              "      padding: 0 0 0 0;\n",
              "      width: 32px;\n",
              "    }\n",
              "\n",
              "    .colab-df-convert:hover {\n",
              "      background-color: #E2EBFA;\n",
              "      box-shadow: 0px 1px 2px rgba(60, 64, 67, 0.3), 0px 1px 3px 1px rgba(60, 64, 67, 0.15);\n",
              "      fill: #174EA6;\n",
              "    }\n",
              "\n",
              "    [theme=dark] .colab-df-convert {\n",
              "      background-color: #3B4455;\n",
              "      fill: #D2E3FC;\n",
              "    }\n",
              "\n",
              "    [theme=dark] .colab-df-convert:hover {\n",
              "      background-color: #434B5C;\n",
              "      box-shadow: 0px 1px 3px 1px rgba(0, 0, 0, 0.15);\n",
              "      filter: drop-shadow(0px 1px 2px rgba(0, 0, 0, 0.3));\n",
              "      fill: #FFFFFF;\n",
              "    }\n",
              "  </style>\n",
              "\n",
              "      <script>\n",
              "        const buttonEl =\n",
              "          document.querySelector('#df-378c8e98-9dc8-4c17-accc-19db96140520 button.colab-df-convert');\n",
              "        buttonEl.style.display =\n",
              "          google.colab.kernel.accessAllowed ? 'block' : 'none';\n",
              "\n",
              "        async function convertToInteractive(key) {\n",
              "          const element = document.querySelector('#df-378c8e98-9dc8-4c17-accc-19db96140520');\n",
              "          const dataTable =\n",
              "            await google.colab.kernel.invokeFunction('convertToInteractive',\n",
              "                                                     [key], {});\n",
              "          if (!dataTable) return;\n",
              "\n",
              "          const docLinkHtml = 'Like what you see? Visit the ' +\n",
              "            '<a target=\"_blank\" href=https://colab.research.google.com/notebooks/data_table.ipynb>data table notebook</a>'\n",
              "            + ' to learn more about interactive tables.';\n",
              "          element.innerHTML = '';\n",
              "          dataTable['output_type'] = 'display_data';\n",
              "          await google.colab.output.renderOutput(dataTable, element);\n",
              "          const docLink = document.createElement('div');\n",
              "          docLink.innerHTML = docLinkHtml;\n",
              "          element.appendChild(docLink);\n",
              "        }\n",
              "      </script>\n",
              "    </div>\n",
              "  </div>\n",
              "  "
            ]
          },
          "metadata": {},
          "execution_count": 57
        }
      ]
    },
    {
      "cell_type": "code",
      "source": [
        "def min_max_scaling(df):\n",
        "    # copy the dataframe\n",
        "    features=['PostId','response_time','label']\n",
        "    df_norm = df.copy()\n",
        "    # apply min-max scaling\n",
        "    for column in df_norm.columns:\n",
        "      if column not in features:\n",
        "        df_norm[column] = (df_norm[column] - df_norm[column].min()) / (df_norm[column].max() - df_norm[column].min())\n",
        "        \n",
        "    return df_norm\n",
        "    \n",
        "# call the min_max_scaling function\n",
        "df_normalized = min_max_scaling(data)\n",
        "df_normalized.to_csv('datasetRelevanceNorm.csv',index=False)"
      ],
      "metadata": {
        "id": "E8Yuifu1qjvM"
      },
      "execution_count": null,
      "outputs": []
    },
    {
      "cell_type": "code",
      "source": [
        "def z_score(df):\n",
        "    # copy the dataframe\n",
        "    df_std = df.copy()\n",
        "    features=['PostId','response_time','label']\n",
        "    # apply the z-score method\n",
        "    for column in df_std.columns:\n",
        "      if column not in features:\n",
        "        df_std[column] = (df_std[column] - df_std[column].mean()) / df_std[column].std()\n",
        "        \n",
        "    return df_std\n",
        "    \n",
        "# call the z_score function\n",
        "df_standardized = z_score(data)\n",
        "\n",
        "df_standardized.to_csv('datasetRelevanceStandard.csv',index=False)"
      ],
      "metadata": {
        "id": "1LF-ZpoFqnE4"
      },
      "execution_count": null,
      "outputs": []
    },
    {
      "cell_type": "markdown",
      "source": [
        "#Regression Model"
      ],
      "metadata": {
        "id": "ZNeCHFe3NYr6"
      }
    },
    {
      "cell_type": "code",
      "source": [
        "from mlxtend.preprocessing import minmax_scaling\n"
      ],
      "metadata": {
        "id": "UBKTbdrVjbA0"
      },
      "execution_count": null,
      "outputs": []
    },
    {
      "cell_type": "code",
      "source": [
        "# Load Dataset from CSV\n",
        "import pandas as pd\n",
        "import numpy as np\n",
        "\n",
        "data = pd.read_csv('datasetRelevanceNorm.csv', sep=',', header=0)\n",
        "data = data.loc[data['response_time'] < 180]\n"
      ],
      "metadata": {
        "id": "O6WnJ6dVNadJ"
      },
      "execution_count": null,
      "outputs": []
    },
    {
      "cell_type": "code",
      "source": [
        "data"
      ],
      "metadata": {
        "colab": {
          "base_uri": "https://localhost:8080/",
          "height": 423
        },
        "id": "5yTjnyWQsDgu",
        "outputId": "4b176561-6041-4315-d8d9-34720e6dd250"
      },
      "execution_count": null,
      "outputs": [
        {
          "output_type": "execute_result",
          "data": {
            "text/plain": [
              "       PostId  title_length  body_length  num_subs_ans  percent_subs_ans  \\\n",
              "0          69      0.198582     0.005868      0.508772          0.230769   \n",
              "1          73      0.184397     0.022067      0.035088          0.093750   \n",
              "3         103      0.134752     0.061649      0.368421          0.167553   \n",
              "5         107      0.219858     0.002605      1.000000          0.236515   \n",
              "8         147      0.290780     0.048504      0.000000          0.000000   \n",
              "...       ...           ...          ...           ...               ...   \n",
              "22199   82209      0.078014     0.044163      0.333333          0.078838   \n",
              "22202   82223      0.014184     0.045720      0.684211          0.235358   \n",
              "22203   82233      0.156028     0.014761      0.000000          0.000000   \n",
              "22204   82236      0.489362     0.009910      0.210526          0.142857   \n",
              "22205   82242      0.106383     0.021258      0.535088          0.162702   \n",
              "\n",
              "       num_subs_t  percent_subs_t  popular_tag  avg_popularity  \\\n",
              "0        0.694118        0.156499          0.2        0.291347   \n",
              "1        0.105882        0.140625          0.2        0.033133   \n",
              "3        0.505882        0.114362          0.2        0.312979   \n",
              "5        0.917647        0.107884          0.2        1.000000   \n",
              "8        0.017647        0.750000          0.0        0.000821   \n",
              "...           ...             ...          ...             ...   \n",
              "22199    0.317647        0.075961          0.4        0.337897   \n",
              "22202    0.641176        0.111563          0.4        0.661829   \n",
              "22203    0.129412        0.197306          0.4        0.017525   \n",
              "22204    0.376471        0.126984          0.2        0.174973   \n",
              "22205    0.652941        0.176164          0.4        0.532037   \n",
              "\n",
              "       topic_relevance  response_time  label  \n",
              "0             0.013171       4.300000    1.0  \n",
              "1             0.014081     119.016667    1.0  \n",
              "3             0.011753       0.000000    1.0  \n",
              "5             0.282346      15.316667    1.0  \n",
              "8             0.000000       0.000000    1.0  \n",
              "...                ...            ...    ...  \n",
              "22199         0.296495      66.133333    1.0  \n",
              "22202         0.564842      31.416667    1.0  \n",
              "22203         0.026633     173.483333    1.0  \n",
              "22204         0.024598      22.716667    1.0  \n",
              "22205         0.317731      12.016667    1.0  \n",
              "\n",
              "[10806 rows x 12 columns]"
            ],
            "text/html": [
              "\n",
              "  <div id=\"df-1cc93dff-ca35-4c12-9023-a56672106900\">\n",
              "    <div class=\"colab-df-container\">\n",
              "      <div>\n",
              "<style scoped>\n",
              "    .dataframe tbody tr th:only-of-type {\n",
              "        vertical-align: middle;\n",
              "    }\n",
              "\n",
              "    .dataframe tbody tr th {\n",
              "        vertical-align: top;\n",
              "    }\n",
              "\n",
              "    .dataframe thead th {\n",
              "        text-align: right;\n",
              "    }\n",
              "</style>\n",
              "<table border=\"1\" class=\"dataframe\">\n",
              "  <thead>\n",
              "    <tr style=\"text-align: right;\">\n",
              "      <th></th>\n",
              "      <th>PostId</th>\n",
              "      <th>title_length</th>\n",
              "      <th>body_length</th>\n",
              "      <th>num_subs_ans</th>\n",
              "      <th>percent_subs_ans</th>\n",
              "      <th>num_subs_t</th>\n",
              "      <th>percent_subs_t</th>\n",
              "      <th>popular_tag</th>\n",
              "      <th>avg_popularity</th>\n",
              "      <th>topic_relevance</th>\n",
              "      <th>response_time</th>\n",
              "      <th>label</th>\n",
              "    </tr>\n",
              "  </thead>\n",
              "  <tbody>\n",
              "    <tr>\n",
              "      <th>0</th>\n",
              "      <td>69</td>\n",
              "      <td>0.198582</td>\n",
              "      <td>0.005868</td>\n",
              "      <td>0.508772</td>\n",
              "      <td>0.230769</td>\n",
              "      <td>0.694118</td>\n",
              "      <td>0.156499</td>\n",
              "      <td>0.2</td>\n",
              "      <td>0.291347</td>\n",
              "      <td>0.013171</td>\n",
              "      <td>4.300000</td>\n",
              "      <td>1.0</td>\n",
              "    </tr>\n",
              "    <tr>\n",
              "      <th>1</th>\n",
              "      <td>73</td>\n",
              "      <td>0.184397</td>\n",
              "      <td>0.022067</td>\n",
              "      <td>0.035088</td>\n",
              "      <td>0.093750</td>\n",
              "      <td>0.105882</td>\n",
              "      <td>0.140625</td>\n",
              "      <td>0.2</td>\n",
              "      <td>0.033133</td>\n",
              "      <td>0.014081</td>\n",
              "      <td>119.016667</td>\n",
              "      <td>1.0</td>\n",
              "    </tr>\n",
              "    <tr>\n",
              "      <th>3</th>\n",
              "      <td>103</td>\n",
              "      <td>0.134752</td>\n",
              "      <td>0.061649</td>\n",
              "      <td>0.368421</td>\n",
              "      <td>0.167553</td>\n",
              "      <td>0.505882</td>\n",
              "      <td>0.114362</td>\n",
              "      <td>0.2</td>\n",
              "      <td>0.312979</td>\n",
              "      <td>0.011753</td>\n",
              "      <td>0.000000</td>\n",
              "      <td>1.0</td>\n",
              "    </tr>\n",
              "    <tr>\n",
              "      <th>5</th>\n",
              "      <td>107</td>\n",
              "      <td>0.219858</td>\n",
              "      <td>0.002605</td>\n",
              "      <td>1.000000</td>\n",
              "      <td>0.236515</td>\n",
              "      <td>0.917647</td>\n",
              "      <td>0.107884</td>\n",
              "      <td>0.2</td>\n",
              "      <td>1.000000</td>\n",
              "      <td>0.282346</td>\n",
              "      <td>15.316667</td>\n",
              "      <td>1.0</td>\n",
              "    </tr>\n",
              "    <tr>\n",
              "      <th>8</th>\n",
              "      <td>147</td>\n",
              "      <td>0.290780</td>\n",
              "      <td>0.048504</td>\n",
              "      <td>0.000000</td>\n",
              "      <td>0.000000</td>\n",
              "      <td>0.017647</td>\n",
              "      <td>0.750000</td>\n",
              "      <td>0.0</td>\n",
              "      <td>0.000821</td>\n",
              "      <td>0.000000</td>\n",
              "      <td>0.000000</td>\n",
              "      <td>1.0</td>\n",
              "    </tr>\n",
              "    <tr>\n",
              "      <th>...</th>\n",
              "      <td>...</td>\n",
              "      <td>...</td>\n",
              "      <td>...</td>\n",
              "      <td>...</td>\n",
              "      <td>...</td>\n",
              "      <td>...</td>\n",
              "      <td>...</td>\n",
              "      <td>...</td>\n",
              "      <td>...</td>\n",
              "      <td>...</td>\n",
              "      <td>...</td>\n",
              "      <td>...</td>\n",
              "    </tr>\n",
              "    <tr>\n",
              "      <th>22199</th>\n",
              "      <td>82209</td>\n",
              "      <td>0.078014</td>\n",
              "      <td>0.044163</td>\n",
              "      <td>0.333333</td>\n",
              "      <td>0.078838</td>\n",
              "      <td>0.317647</td>\n",
              "      <td>0.075961</td>\n",
              "      <td>0.4</td>\n",
              "      <td>0.337897</td>\n",
              "      <td>0.296495</td>\n",
              "      <td>66.133333</td>\n",
              "      <td>1.0</td>\n",
              "    </tr>\n",
              "    <tr>\n",
              "      <th>22202</th>\n",
              "      <td>82223</td>\n",
              "      <td>0.014184</td>\n",
              "      <td>0.045720</td>\n",
              "      <td>0.684211</td>\n",
              "      <td>0.235358</td>\n",
              "      <td>0.641176</td>\n",
              "      <td>0.111563</td>\n",
              "      <td>0.4</td>\n",
              "      <td>0.661829</td>\n",
              "      <td>0.564842</td>\n",
              "      <td>31.416667</td>\n",
              "      <td>1.0</td>\n",
              "    </tr>\n",
              "    <tr>\n",
              "      <th>22203</th>\n",
              "      <td>82233</td>\n",
              "      <td>0.156028</td>\n",
              "      <td>0.014761</td>\n",
              "      <td>0.000000</td>\n",
              "      <td>0.000000</td>\n",
              "      <td>0.129412</td>\n",
              "      <td>0.197306</td>\n",
              "      <td>0.4</td>\n",
              "      <td>0.017525</td>\n",
              "      <td>0.026633</td>\n",
              "      <td>173.483333</td>\n",
              "      <td>1.0</td>\n",
              "    </tr>\n",
              "    <tr>\n",
              "      <th>22204</th>\n",
              "      <td>82236</td>\n",
              "      <td>0.489362</td>\n",
              "      <td>0.009910</td>\n",
              "      <td>0.210526</td>\n",
              "      <td>0.142857</td>\n",
              "      <td>0.376471</td>\n",
              "      <td>0.126984</td>\n",
              "      <td>0.2</td>\n",
              "      <td>0.174973</td>\n",
              "      <td>0.024598</td>\n",
              "      <td>22.716667</td>\n",
              "      <td>1.0</td>\n",
              "    </tr>\n",
              "    <tr>\n",
              "      <th>22205</th>\n",
              "      <td>82242</td>\n",
              "      <td>0.106383</td>\n",
              "      <td>0.021258</td>\n",
              "      <td>0.535088</td>\n",
              "      <td>0.162702</td>\n",
              "      <td>0.652941</td>\n",
              "      <td>0.176164</td>\n",
              "      <td>0.4</td>\n",
              "      <td>0.532037</td>\n",
              "      <td>0.317731</td>\n",
              "      <td>12.016667</td>\n",
              "      <td>1.0</td>\n",
              "    </tr>\n",
              "  </tbody>\n",
              "</table>\n",
              "<p>10806 rows × 12 columns</p>\n",
              "</div>\n",
              "      <button class=\"colab-df-convert\" onclick=\"convertToInteractive('df-1cc93dff-ca35-4c12-9023-a56672106900')\"\n",
              "              title=\"Convert this dataframe to an interactive table.\"\n",
              "              style=\"display:none;\">\n",
              "        \n",
              "  <svg xmlns=\"http://www.w3.org/2000/svg\" height=\"24px\"viewBox=\"0 0 24 24\"\n",
              "       width=\"24px\">\n",
              "    <path d=\"M0 0h24v24H0V0z\" fill=\"none\"/>\n",
              "    <path d=\"M18.56 5.44l.94 2.06.94-2.06 2.06-.94-2.06-.94-.94-2.06-.94 2.06-2.06.94zm-11 1L8.5 8.5l.94-2.06 2.06-.94-2.06-.94L8.5 2.5l-.94 2.06-2.06.94zm10 10l.94 2.06.94-2.06 2.06-.94-2.06-.94-.94-2.06-.94 2.06-2.06.94z\"/><path d=\"M17.41 7.96l-1.37-1.37c-.4-.4-.92-.59-1.43-.59-.52 0-1.04.2-1.43.59L10.3 9.45l-7.72 7.72c-.78.78-.78 2.05 0 2.83L4 21.41c.39.39.9.59 1.41.59.51 0 1.02-.2 1.41-.59l7.78-7.78 2.81-2.81c.8-.78.8-2.07 0-2.86zM5.41 20L4 18.59l7.72-7.72 1.47 1.35L5.41 20z\"/>\n",
              "  </svg>\n",
              "      </button>\n",
              "      \n",
              "  <style>\n",
              "    .colab-df-container {\n",
              "      display:flex;\n",
              "      flex-wrap:wrap;\n",
              "      gap: 12px;\n",
              "    }\n",
              "\n",
              "    .colab-df-convert {\n",
              "      background-color: #E8F0FE;\n",
              "      border: none;\n",
              "      border-radius: 50%;\n",
              "      cursor: pointer;\n",
              "      display: none;\n",
              "      fill: #1967D2;\n",
              "      height: 32px;\n",
              "      padding: 0 0 0 0;\n",
              "      width: 32px;\n",
              "    }\n",
              "\n",
              "    .colab-df-convert:hover {\n",
              "      background-color: #E2EBFA;\n",
              "      box-shadow: 0px 1px 2px rgba(60, 64, 67, 0.3), 0px 1px 3px 1px rgba(60, 64, 67, 0.15);\n",
              "      fill: #174EA6;\n",
              "    }\n",
              "\n",
              "    [theme=dark] .colab-df-convert {\n",
              "      background-color: #3B4455;\n",
              "      fill: #D2E3FC;\n",
              "    }\n",
              "\n",
              "    [theme=dark] .colab-df-convert:hover {\n",
              "      background-color: #434B5C;\n",
              "      box-shadow: 0px 1px 3px 1px rgba(0, 0, 0, 0.15);\n",
              "      filter: drop-shadow(0px 1px 2px rgba(0, 0, 0, 0.3));\n",
              "      fill: #FFFFFF;\n",
              "    }\n",
              "  </style>\n",
              "\n",
              "      <script>\n",
              "        const buttonEl =\n",
              "          document.querySelector('#df-1cc93dff-ca35-4c12-9023-a56672106900 button.colab-df-convert');\n",
              "        buttonEl.style.display =\n",
              "          google.colab.kernel.accessAllowed ? 'block' : 'none';\n",
              "\n",
              "        async function convertToInteractive(key) {\n",
              "          const element = document.querySelector('#df-1cc93dff-ca35-4c12-9023-a56672106900');\n",
              "          const dataTable =\n",
              "            await google.colab.kernel.invokeFunction('convertToInteractive',\n",
              "                                                     [key], {});\n",
              "          if (!dataTable) return;\n",
              "\n",
              "          const docLinkHtml = 'Like what you see? Visit the ' +\n",
              "            '<a target=\"_blank\" href=https://colab.research.google.com/notebooks/data_table.ipynb>data table notebook</a>'\n",
              "            + ' to learn more about interactive tables.';\n",
              "          element.innerHTML = '';\n",
              "          dataTable['output_type'] = 'display_data';\n",
              "          await google.colab.output.renderOutput(dataTable, element);\n",
              "          const docLink = document.createElement('div');\n",
              "          docLink.innerHTML = docLinkHtml;\n",
              "          element.appendChild(docLink);\n",
              "        }\n",
              "      </script>\n",
              "    </div>\n",
              "  </div>\n",
              "  "
            ]
          },
          "metadata": {},
          "execution_count": 29
        }
      ]
    },
    {
      "cell_type": "code",
      "source": [
        "data['response_time'] = data['response_time'].div(60)"
      ],
      "metadata": {
        "id": "fbLHFdJKlZ3n"
      },
      "execution_count": null,
      "outputs": []
    },
    {
      "cell_type": "code",
      "source": [
        "#data['response_time'] = data['response_time'].div(60).round(2)\n",
        "y = np.array(data.iloc[:,10])\n",
        "x= np.array(data.iloc[:,1:10])"
      ],
      "metadata": {
        "id": "1198swPxRBMw"
      },
      "execution_count": null,
      "outputs": []
    },
    {
      "cell_type": "code",
      "source": [
        "x.shape"
      ],
      "metadata": {
        "colab": {
          "base_uri": "https://localhost:8080/"
        },
        "id": "Nh8GVzdONrv2",
        "outputId": "f6b08c20-934f-4a02-9329-88c325ffedd1"
      },
      "execution_count": null,
      "outputs": [
        {
          "output_type": "execute_result",
          "data": {
            "text/plain": [
              "(10806, 8)"
            ]
          },
          "metadata": {},
          "execution_count": 67
        }
      ]
    },
    {
      "cell_type": "code",
      "source": [
        "data"
      ],
      "metadata": {
        "colab": {
          "base_uri": "https://localhost:8080/",
          "height": 488
        },
        "id": "8gn8hbiKks-X",
        "outputId": "2ae8c97b-414f-46f5-d7e6-450d57f57a90"
      },
      "execution_count": null,
      "outputs": [
        {
          "output_type": "execute_result",
          "data": {
            "text/plain": [
              "       PostId  title_length  body_length  num_subs_ans  percent_subs_ans  \\\n",
              "0          69      0.198582     0.005868      0.508772          0.230769   \n",
              "1          73      0.184397     0.022067      0.035088          0.093750   \n",
              "3         103      0.134752     0.061649      0.368421          0.167553   \n",
              "5         107      0.219858     0.002605      1.000000          0.236515   \n",
              "8         147      0.290780     0.048504      0.000000          0.000000   \n",
              "...       ...           ...          ...           ...               ...   \n",
              "22199   82209      0.078014     0.044163      0.333333          0.078838   \n",
              "22202   82223      0.014184     0.045720      0.684211          0.235358   \n",
              "22203   82233      0.156028     0.014761      0.000000          0.000000   \n",
              "22204   82236      0.489362     0.009910      0.210526          0.142857   \n",
              "22205   82242      0.106383     0.021258      0.535088          0.162702   \n",
              "\n",
              "       num_subs_t  percent_subs_t  popular_tag  avg_popularity  \\\n",
              "0        0.694118        0.156499          0.2        0.291347   \n",
              "1        0.105882        0.140625          0.2        0.033133   \n",
              "3        0.505882        0.114362          0.2        0.312979   \n",
              "5        0.917647        0.107884          0.2        1.000000   \n",
              "8        0.017647        0.750000          0.0        0.000821   \n",
              "...           ...             ...          ...             ...   \n",
              "22199    0.317647        0.075961          0.4        0.337897   \n",
              "22202    0.641176        0.111563          0.4        0.661829   \n",
              "22203    0.129412        0.197306          0.4        0.017525   \n",
              "22204    0.376471        0.126984          0.2        0.174973   \n",
              "22205    0.652941        0.176164          0.4        0.532037   \n",
              "\n",
              "       topic_relevance  response_time  label  \n",
              "0             0.013171       0.071667    1.0  \n",
              "1             0.014081       1.983611    1.0  \n",
              "3             0.011753       0.000000    1.0  \n",
              "5             0.282346       0.255278    1.0  \n",
              "8             0.000000       0.000000    1.0  \n",
              "...                ...            ...    ...  \n",
              "22199         0.296495       1.102222    1.0  \n",
              "22202         0.564842       0.523611    1.0  \n",
              "22203         0.026633       2.891389    1.0  \n",
              "22204         0.024598       0.378611    1.0  \n",
              "22205         0.317731       0.200278    1.0  \n",
              "\n",
              "[10806 rows x 12 columns]"
            ],
            "text/html": [
              "\n",
              "  <div id=\"df-64c0111a-0276-4484-a66c-36f090f4f16b\">\n",
              "    <div class=\"colab-df-container\">\n",
              "      <div>\n",
              "<style scoped>\n",
              "    .dataframe tbody tr th:only-of-type {\n",
              "        vertical-align: middle;\n",
              "    }\n",
              "\n",
              "    .dataframe tbody tr th {\n",
              "        vertical-align: top;\n",
              "    }\n",
              "\n",
              "    .dataframe thead th {\n",
              "        text-align: right;\n",
              "    }\n",
              "</style>\n",
              "<table border=\"1\" class=\"dataframe\">\n",
              "  <thead>\n",
              "    <tr style=\"text-align: right;\">\n",
              "      <th></th>\n",
              "      <th>PostId</th>\n",
              "      <th>title_length</th>\n",
              "      <th>body_length</th>\n",
              "      <th>num_subs_ans</th>\n",
              "      <th>percent_subs_ans</th>\n",
              "      <th>num_subs_t</th>\n",
              "      <th>percent_subs_t</th>\n",
              "      <th>popular_tag</th>\n",
              "      <th>avg_popularity</th>\n",
              "      <th>topic_relevance</th>\n",
              "      <th>response_time</th>\n",
              "      <th>label</th>\n",
              "    </tr>\n",
              "  </thead>\n",
              "  <tbody>\n",
              "    <tr>\n",
              "      <th>0</th>\n",
              "      <td>69</td>\n",
              "      <td>0.198582</td>\n",
              "      <td>0.005868</td>\n",
              "      <td>0.508772</td>\n",
              "      <td>0.230769</td>\n",
              "      <td>0.694118</td>\n",
              "      <td>0.156499</td>\n",
              "      <td>0.2</td>\n",
              "      <td>0.291347</td>\n",
              "      <td>0.013171</td>\n",
              "      <td>0.071667</td>\n",
              "      <td>1.0</td>\n",
              "    </tr>\n",
              "    <tr>\n",
              "      <th>1</th>\n",
              "      <td>73</td>\n",
              "      <td>0.184397</td>\n",
              "      <td>0.022067</td>\n",
              "      <td>0.035088</td>\n",
              "      <td>0.093750</td>\n",
              "      <td>0.105882</td>\n",
              "      <td>0.140625</td>\n",
              "      <td>0.2</td>\n",
              "      <td>0.033133</td>\n",
              "      <td>0.014081</td>\n",
              "      <td>1.983611</td>\n",
              "      <td>1.0</td>\n",
              "    </tr>\n",
              "    <tr>\n",
              "      <th>3</th>\n",
              "      <td>103</td>\n",
              "      <td>0.134752</td>\n",
              "      <td>0.061649</td>\n",
              "      <td>0.368421</td>\n",
              "      <td>0.167553</td>\n",
              "      <td>0.505882</td>\n",
              "      <td>0.114362</td>\n",
              "      <td>0.2</td>\n",
              "      <td>0.312979</td>\n",
              "      <td>0.011753</td>\n",
              "      <td>0.000000</td>\n",
              "      <td>1.0</td>\n",
              "    </tr>\n",
              "    <tr>\n",
              "      <th>5</th>\n",
              "      <td>107</td>\n",
              "      <td>0.219858</td>\n",
              "      <td>0.002605</td>\n",
              "      <td>1.000000</td>\n",
              "      <td>0.236515</td>\n",
              "      <td>0.917647</td>\n",
              "      <td>0.107884</td>\n",
              "      <td>0.2</td>\n",
              "      <td>1.000000</td>\n",
              "      <td>0.282346</td>\n",
              "      <td>0.255278</td>\n",
              "      <td>1.0</td>\n",
              "    </tr>\n",
              "    <tr>\n",
              "      <th>8</th>\n",
              "      <td>147</td>\n",
              "      <td>0.290780</td>\n",
              "      <td>0.048504</td>\n",
              "      <td>0.000000</td>\n",
              "      <td>0.000000</td>\n",
              "      <td>0.017647</td>\n",
              "      <td>0.750000</td>\n",
              "      <td>0.0</td>\n",
              "      <td>0.000821</td>\n",
              "      <td>0.000000</td>\n",
              "      <td>0.000000</td>\n",
              "      <td>1.0</td>\n",
              "    </tr>\n",
              "    <tr>\n",
              "      <th>...</th>\n",
              "      <td>...</td>\n",
              "      <td>...</td>\n",
              "      <td>...</td>\n",
              "      <td>...</td>\n",
              "      <td>...</td>\n",
              "      <td>...</td>\n",
              "      <td>...</td>\n",
              "      <td>...</td>\n",
              "      <td>...</td>\n",
              "      <td>...</td>\n",
              "      <td>...</td>\n",
              "      <td>...</td>\n",
              "    </tr>\n",
              "    <tr>\n",
              "      <th>22199</th>\n",
              "      <td>82209</td>\n",
              "      <td>0.078014</td>\n",
              "      <td>0.044163</td>\n",
              "      <td>0.333333</td>\n",
              "      <td>0.078838</td>\n",
              "      <td>0.317647</td>\n",
              "      <td>0.075961</td>\n",
              "      <td>0.4</td>\n",
              "      <td>0.337897</td>\n",
              "      <td>0.296495</td>\n",
              "      <td>1.102222</td>\n",
              "      <td>1.0</td>\n",
              "    </tr>\n",
              "    <tr>\n",
              "      <th>22202</th>\n",
              "      <td>82223</td>\n",
              "      <td>0.014184</td>\n",
              "      <td>0.045720</td>\n",
              "      <td>0.684211</td>\n",
              "      <td>0.235358</td>\n",
              "      <td>0.641176</td>\n",
              "      <td>0.111563</td>\n",
              "      <td>0.4</td>\n",
              "      <td>0.661829</td>\n",
              "      <td>0.564842</td>\n",
              "      <td>0.523611</td>\n",
              "      <td>1.0</td>\n",
              "    </tr>\n",
              "    <tr>\n",
              "      <th>22203</th>\n",
              "      <td>82233</td>\n",
              "      <td>0.156028</td>\n",
              "      <td>0.014761</td>\n",
              "      <td>0.000000</td>\n",
              "      <td>0.000000</td>\n",
              "      <td>0.129412</td>\n",
              "      <td>0.197306</td>\n",
              "      <td>0.4</td>\n",
              "      <td>0.017525</td>\n",
              "      <td>0.026633</td>\n",
              "      <td>2.891389</td>\n",
              "      <td>1.0</td>\n",
              "    </tr>\n",
              "    <tr>\n",
              "      <th>22204</th>\n",
              "      <td>82236</td>\n",
              "      <td>0.489362</td>\n",
              "      <td>0.009910</td>\n",
              "      <td>0.210526</td>\n",
              "      <td>0.142857</td>\n",
              "      <td>0.376471</td>\n",
              "      <td>0.126984</td>\n",
              "      <td>0.2</td>\n",
              "      <td>0.174973</td>\n",
              "      <td>0.024598</td>\n",
              "      <td>0.378611</td>\n",
              "      <td>1.0</td>\n",
              "    </tr>\n",
              "    <tr>\n",
              "      <th>22205</th>\n",
              "      <td>82242</td>\n",
              "      <td>0.106383</td>\n",
              "      <td>0.021258</td>\n",
              "      <td>0.535088</td>\n",
              "      <td>0.162702</td>\n",
              "      <td>0.652941</td>\n",
              "      <td>0.176164</td>\n",
              "      <td>0.4</td>\n",
              "      <td>0.532037</td>\n",
              "      <td>0.317731</td>\n",
              "      <td>0.200278</td>\n",
              "      <td>1.0</td>\n",
              "    </tr>\n",
              "  </tbody>\n",
              "</table>\n",
              "<p>10806 rows × 12 columns</p>\n",
              "</div>\n",
              "      <button class=\"colab-df-convert\" onclick=\"convertToInteractive('df-64c0111a-0276-4484-a66c-36f090f4f16b')\"\n",
              "              title=\"Convert this dataframe to an interactive table.\"\n",
              "              style=\"display:none;\">\n",
              "        \n",
              "  <svg xmlns=\"http://www.w3.org/2000/svg\" height=\"24px\"viewBox=\"0 0 24 24\"\n",
              "       width=\"24px\">\n",
              "    <path d=\"M0 0h24v24H0V0z\" fill=\"none\"/>\n",
              "    <path d=\"M18.56 5.44l.94 2.06.94-2.06 2.06-.94-2.06-.94-.94-2.06-.94 2.06-2.06.94zm-11 1L8.5 8.5l.94-2.06 2.06-.94-2.06-.94L8.5 2.5l-.94 2.06-2.06.94zm10 10l.94 2.06.94-2.06 2.06-.94-2.06-.94-.94-2.06-.94 2.06-2.06.94z\"/><path d=\"M17.41 7.96l-1.37-1.37c-.4-.4-.92-.59-1.43-.59-.52 0-1.04.2-1.43.59L10.3 9.45l-7.72 7.72c-.78.78-.78 2.05 0 2.83L4 21.41c.39.39.9.59 1.41.59.51 0 1.02-.2 1.41-.59l7.78-7.78 2.81-2.81c.8-.78.8-2.07 0-2.86zM5.41 20L4 18.59l7.72-7.72 1.47 1.35L5.41 20z\"/>\n",
              "  </svg>\n",
              "      </button>\n",
              "      \n",
              "  <style>\n",
              "    .colab-df-container {\n",
              "      display:flex;\n",
              "      flex-wrap:wrap;\n",
              "      gap: 12px;\n",
              "    }\n",
              "\n",
              "    .colab-df-convert {\n",
              "      background-color: #E8F0FE;\n",
              "      border: none;\n",
              "      border-radius: 50%;\n",
              "      cursor: pointer;\n",
              "      display: none;\n",
              "      fill: #1967D2;\n",
              "      height: 32px;\n",
              "      padding: 0 0 0 0;\n",
              "      width: 32px;\n",
              "    }\n",
              "\n",
              "    .colab-df-convert:hover {\n",
              "      background-color: #E2EBFA;\n",
              "      box-shadow: 0px 1px 2px rgba(60, 64, 67, 0.3), 0px 1px 3px 1px rgba(60, 64, 67, 0.15);\n",
              "      fill: #174EA6;\n",
              "    }\n",
              "\n",
              "    [theme=dark] .colab-df-convert {\n",
              "      background-color: #3B4455;\n",
              "      fill: #D2E3FC;\n",
              "    }\n",
              "\n",
              "    [theme=dark] .colab-df-convert:hover {\n",
              "      background-color: #434B5C;\n",
              "      box-shadow: 0px 1px 3px 1px rgba(0, 0, 0, 0.15);\n",
              "      filter: drop-shadow(0px 1px 2px rgba(0, 0, 0, 0.3));\n",
              "      fill: #FFFFFF;\n",
              "    }\n",
              "  </style>\n",
              "\n",
              "      <script>\n",
              "        const buttonEl =\n",
              "          document.querySelector('#df-64c0111a-0276-4484-a66c-36f090f4f16b button.colab-df-convert');\n",
              "        buttonEl.style.display =\n",
              "          google.colab.kernel.accessAllowed ? 'block' : 'none';\n",
              "\n",
              "        async function convertToInteractive(key) {\n",
              "          const element = document.querySelector('#df-64c0111a-0276-4484-a66c-36f090f4f16b');\n",
              "          const dataTable =\n",
              "            await google.colab.kernel.invokeFunction('convertToInteractive',\n",
              "                                                     [key], {});\n",
              "          if (!dataTable) return;\n",
              "\n",
              "          const docLinkHtml = 'Like what you see? Visit the ' +\n",
              "            '<a target=\"_blank\" href=https://colab.research.google.com/notebooks/data_table.ipynb>data table notebook</a>'\n",
              "            + ' to learn more about interactive tables.';\n",
              "          element.innerHTML = '';\n",
              "          dataTable['output_type'] = 'display_data';\n",
              "          await google.colab.output.renderOutput(dataTable, element);\n",
              "          const docLink = document.createElement('div');\n",
              "          docLink.innerHTML = docLinkHtml;\n",
              "          element.appendChild(docLink);\n",
              "        }\n",
              "      </script>\n",
              "    </div>\n",
              "  </div>\n",
              "  "
            ]
          },
          "metadata": {},
          "execution_count": 145
        }
      ]
    },
    {
      "cell_type": "code",
      "source": [
        "from sklearn.model_selection import train_test_split\n",
        "\n",
        "x_train, x_test, y_train, y_test = train_test_split(x, y, test_size=0.2)"
      ],
      "metadata": {
        "id": "298B-iIlO-jT"
      },
      "execution_count": null,
      "outputs": []
    },
    {
      "cell_type": "code",
      "source": [
        "type(x_train)"
      ],
      "metadata": {
        "colab": {
          "base_uri": "https://localhost:8080/"
        },
        "id": "WoVQSeD-n6RC",
        "outputId": "1e479613-0167-4846-cda3-3596ef580719"
      },
      "execution_count": null,
      "outputs": [
        {
          "output_type": "execute_result",
          "data": {
            "text/plain": [
              "numpy.ndarray"
            ]
          },
          "metadata": {},
          "execution_count": 11
        }
      ]
    },
    {
      "cell_type": "code",
      "source": [
        "from sklearn.linear_model import LinearRegression\n",
        "\n",
        "reg = LinearRegression().fit(x_train, y_train)"
      ],
      "metadata": {
        "id": "r5-rRTJ_N_6G"
      },
      "execution_count": null,
      "outputs": []
    },
    {
      "cell_type": "code",
      "source": [
        "y_pred = reg.predict(x_test)\n",
        "from sklearn import metrics\n",
        "print('Mean Absolute Error:', metrics.mean_absolute_error(y_test, y_pred))\n",
        "print('Mean Squared Error:', metrics.mean_squared_error(y_test, y_pred))\n",
        "print('Root Mean Squared Error:', np.sqrt(metrics.mean_squared_error(y_test, y_pred)))"
      ],
      "metadata": {
        "colab": {
          "base_uri": "https://localhost:8080/"
        },
        "id": "_4Ck9i3-OxMh",
        "outputId": "3ae160c0-a555-4504-cbda-affd7d37adb7"
      },
      "execution_count": null,
      "outputs": [
        {
          "output_type": "stream",
          "name": "stdout",
          "text": [
            "Mean Absolute Error: 0.67973976724152\n",
            "Mean Squared Error: 0.6549448544777341\n",
            "Root Mean Squared Error: 0.8092866330773876\n"
          ]
        }
      ]
    },
    {
      "cell_type": "code",
      "source": [
        "reg.score(x_test, y_test)"
      ],
      "metadata": {
        "colab": {
          "base_uri": "https://localhost:8080/"
        },
        "id": "oW3UEc-ZR22_",
        "outputId": "e50536d5-93b6-40a9-d9c5-60e1ac5ced09"
      },
      "execution_count": null,
      "outputs": [
        {
          "output_type": "execute_result",
          "data": {
            "text/plain": [
              "0.041051346944080636"
            ]
          },
          "metadata": {},
          "execution_count": 11
        }
      ]
    },
    {
      "cell_type": "markdown",
      "source": [
        "Mean Absolute Error: 5.492905125155626\n",
        "Mean Squared Error: 44.456624053039995\n",
        "Root Mean Squared Error: 6.66758007473776"
      ],
      "metadata": {
        "id": "lpaBy193P-MS"
      }
    },
    {
      "cell_type": "markdown",
      "source": [
        "#MLP Regressor"
      ],
      "metadata": {
        "id": "CtKSoDSUxEs3"
      }
    },
    {
      "cell_type": "code",
      "source": [
        "#MLP Regressor\n",
        "from sklearn.neural_network import MLPRegressor\n",
        "regr = MLPRegressor(hidden_layer_sizes= (200,), max_iter=500, early_stopping=True, validation_fraction=0.2).fit(x_train, y_train)"
      ],
      "metadata": {
        "id": "F0ATDAprP5MD"
      },
      "execution_count": null,
      "outputs": []
    },
    {
      "cell_type": "code",
      "source": [
        "y_pred = regr.predict(x_test)\n",
        "from sklearn import metrics\n",
        "print('Mean Absolute Error:', metrics.mean_absolute_error(y_test, y_pred))\n",
        "print('Mean Squared Error:', metrics.mean_squared_error(y_test, y_pred))\n",
        "print('Root Mean Squared Error:', np.sqrt(metrics.mean_squared_error(y_test, y_pred)))"
      ],
      "metadata": {
        "colab": {
          "base_uri": "https://localhost:8080/"
        },
        "id": "PstdKqtQgTTY",
        "outputId": "8301f799-4c49-4979-97a4-8a72e4e7d36e"
      },
      "execution_count": null,
      "outputs": [
        {
          "output_type": "stream",
          "name": "stdout",
          "text": [
            "Mean Absolute Error: 0.6545049308551926\n",
            "Mean Squared Error: 0.6139884814022322\n",
            "Root Mean Squared Error: 0.7835741709641992\n"
          ]
        }
      ]
    },
    {
      "cell_type": "code",
      "source": [
        "regr.score(x_test,y_test)"
      ],
      "metadata": {
        "colab": {
          "base_uri": "https://localhost:8080/"
        },
        "id": "Xw_wD_qzhJIa",
        "outputId": "3afaf6e9-0902-4e70-de78-8624acf2e580"
      },
      "execution_count": null,
      "outputs": [
        {
          "output_type": "execute_result",
          "data": {
            "text/plain": [
              "0.03724700197674202"
            ]
          },
          "metadata": {},
          "execution_count": 180
        }
      ]
    },
    {
      "cell_type": "markdown",
      "source": [
        "#K-fold Cross Validation for MLP Regressor"
      ],
      "metadata": {
        "id": "6S8FxBHc8v02"
      }
    },
    {
      "cell_type": "code",
      "source": [
        "from sklearn.model_selection import cross_val_score\n",
        "from sklearn.neural_network import MLPRegressor\n",
        "\n",
        "activations= ['relu', 'tanh', ]\n",
        "hidden_layers = [(100,), (150,), (200,), (250,), (300,)]\n",
        "max_iters= [200, 300, 400]\n",
        "average_scores = []\n",
        "for activation_function in activations:\n",
        "  for hidden_layer in hidden_layers:\n",
        "    for max_it in max_iters:\n",
        "      info={}\n",
        "      info['hidden_layer_size'] = str(hidden_layer)\n",
        "      info['activation'] = activation_function\n",
        "      info['max_iteration'] = str(max_it)\n",
        "      regr = MLPRegressor(hidden_layer_sizes= hidden_layer, activation= activation_function, max_iter=max_it, early_stopping=True, validation_fraction=0.2)\n",
        "      scores = cross_val_score(regr, x_train, y_train, cv=10)\n",
        "      \n",
        "      info['average_error'] = str(np.mean(scores, dtype=np.float64))\n",
        "      average_scores.append(info)\n",
        "      print(np.mean(scores, dtype=np.float64))\n"
      ],
      "metadata": {
        "colab": {
          "base_uri": "https://localhost:8080/"
        },
        "id": "_-Zu6hsS8u4S",
        "outputId": "5724e480-bfbd-46f9-8890-0fa463e4d0c5"
      },
      "execution_count": null,
      "outputs": [
        {
          "output_type": "stream",
          "name": "stdout",
          "text": [
            "0.037804958475994896\n",
            "0.03650947914567826\n",
            "0.036946910877220206\n",
            "0.03794827405960362\n",
            "0.03760094768460308\n",
            "0.03699177552586334\n",
            "0.03757528654783267\n",
            "0.03673493697617754\n",
            "0.0369095651333568\n",
            "0.037748838855286196\n",
            "0.03650462836857972\n",
            "0.03650878230595167\n",
            "0.03699474269331889\n",
            "0.03806586439913264\n",
            "0.03729360669936675\n",
            "0.03526444165958712\n",
            "0.03564588704512445\n",
            "0.035469186451493905\n",
            "0.03611040618676362\n",
            "0.036241618492684605\n",
            "0.035313040986084364\n",
            "0.035371320651165085\n",
            "0.03541282300817354\n",
            "0.03491809371603759\n",
            "0.035009877306818295\n",
            "0.036001725035037645\n",
            "0.035215481022438266\n",
            "0.03499655502343635\n",
            "0.03515811618276445\n",
            "0.03473178278709514\n"
          ]
        }
      ]
    },
    {
      "cell_type": "code",
      "source": [
        "from sklearn.model_selection import cross_val_score\n",
        "from sklearn.neural_network import MLPRegressor\n",
        "\n",
        "\n",
        "early_stoppings= [ True, False]\n",
        "valid_fractions= [0.1, 0.15, 0.20]\n",
        "average_scores = []\n",
        "\n",
        "for early in early_stoppings:\n",
        "  if early:\n",
        "    for valid in valid_fractions:\n",
        "      info={}\n",
        "      info['valid_fraction'] = valid\n",
        "      regr = MLPRegressor(hidden_layer_sizes= (250,), activation= 'relu', max_iter= 300, early_stopping=early, validation_fraction=valid)\n",
        "      scores = cross_val_score(regr, x_train, y_train, cv=10)\n",
        "      info['average_error'] = str(np.mean(scores, dtype=np.float64))\n",
        "      average_scores.append(info)\n",
        "      print(np.mean(scores, dtype=np.float64))\n",
        "  else:\n",
        "    regr = MLPRegressor(hidden_layer_sizes= (250,), activation= 'relu', max_iter= 300, early_stopping=False)\n",
        "    scores = cross_val_score(regr, x_train, y_train, cv=10)\n",
        "    info['average_error'] = str(np.mean(scores, dtype=np.float64))\n",
        "    average_scores.append(info)\n",
        "    print(np.mean(scores, dtype=np.float64))\n"
      ],
      "metadata": {
        "colab": {
          "base_uri": "https://localhost:8080/"
        },
        "id": "CVUp7YOkfHu3",
        "outputId": "b5e67438-3b32-4c65-a46e-017b3040b874"
      },
      "execution_count": null,
      "outputs": [
        {
          "output_type": "stream",
          "name": "stdout",
          "text": [
            "0.035016284910508136\n",
            "0.03858746808460099\n",
            "0.03904952985504612\n",
            "0.0385337924028137\n"
          ]
        }
      ]
    },
    {
      "cell_type": "code",
      "source": [
        "average_scores"
      ],
      "metadata": {
        "colab": {
          "base_uri": "https://localhost:8080/"
        },
        "id": "ABKYmKM6hmWl",
        "outputId": "497b293a-6210-4927-f49c-e84326d9b341"
      },
      "execution_count": null,
      "outputs": [
        {
          "output_type": "execute_result",
          "data": {
            "text/plain": [
              "[{'average_error': '0.035016284910508136', 'valid_fraction': 0.1},\n",
              " {'average_error': '0.03858746808460099', 'valid_fraction': 0.15},\n",
              " {'average_error': '0.0385337924028137', 'valid_fraction': 0.2},\n",
              " {'average_error': '0.0385337924028137', 'valid_fraction': 0.2}]"
            ]
          },
          "metadata": {},
          "execution_count": 24
        }
      ]
    },
    {
      "cell_type": "code",
      "source": [
        "average_scores"
      ],
      "metadata": {
        "id": "yOrlRuu2IMkj"
      },
      "execution_count": null,
      "outputs": []
    },
    {
      "cell_type": "markdown",
      "source": [
        "#Linear Regression from scratch"
      ],
      "metadata": {
        "id": "sgBsq1AFn9xd"
      }
    },
    {
      "cell_type": "code",
      "source": [
        "#code source: https://machinelearningmastery.com/implement-simple-linear-regression-scratch-python/\n",
        "def compute_cost(X, y, theta):\n",
        "  m=X.shape[0]\n",
        "\n",
        "  predictions = X.dot(theta)\n",
        "  #print('predictions= ', predictions[:5])\n",
        "  errors = np.subtract(predictions, y)\n",
        "  #print('errors= ', errors[:5]) \n",
        "  sqrErrors = np.square(errors)\n",
        "  J = 1/(2 * m) * errors.T.dot(errors)\n",
        "\n",
        "  return J"
      ],
      "metadata": {
        "id": "rRYD7111oCLV"
      },
      "execution_count": null,
      "outputs": []
    },
    {
      "cell_type": "code",
      "source": [
        "def gradient_descent(X, y, theta, alpha, iterations):\n",
        " \n",
        "  cost_history = np.zeros(iterations)\n",
        "  m=X.shape[0]\n",
        "  for i in range(iterations):\n",
        "    predictions = X.dot(theta)\n",
        "    #print('predictions= ', predictions[:5])\n",
        "    errors = np.subtract(predictions, y)\n",
        "    #print('errors= ', errors[:5])\n",
        "    sum_delta = (alpha / m) * X.transpose().dot(errors);\n",
        "    #print('sum_delta= ', sum_delta[:5])\n",
        "    theta = theta - sum_delta;\n",
        "\n",
        "    cost_history[i] = compute_cost(X, y, theta)  \n",
        "\n",
        "  return theta, cost_history"
      ],
      "metadata": {
        "id": "hmMqXmsQpBMP"
      },
      "execution_count": null,
      "outputs": []
    },
    {
      "cell_type": "code",
      "source": [
        "theta = np.zeros(x_train.shape[1])\n",
        "iterations = 400;\n",
        "alpha = 0.15;"
      ],
      "metadata": {
        "id": "rtcm2AACpPLs"
      },
      "execution_count": null,
      "outputs": []
    },
    {
      "cell_type": "code",
      "source": [
        "theta.shape"
      ],
      "metadata": {
        "colab": {
          "base_uri": "https://localhost:8080/"
        },
        "id": "B8vuiRrPsgTu",
        "outputId": "af27497b-48e0-4ed2-ce37-4cdf40785504"
      },
      "execution_count": null,
      "outputs": [
        {
          "output_type": "execute_result",
          "data": {
            "text/plain": [
              "(8,)"
            ]
          },
          "metadata": {},
          "execution_count": 220
        }
      ]
    },
    {
      "cell_type": "code",
      "source": [
        "theta, cost_history = gradient_descent(x_train, y_train, theta, alpha, iterations)\n"
      ],
      "metadata": {
        "id": "-7Qz6umfsLaL"
      },
      "execution_count": null,
      "outputs": []
    },
    {
      "cell_type": "code",
      "source": [
        "y_pred = x_test.dot(theta)\n"
      ],
      "metadata": {
        "id": "54pjeZtCtW6q"
      },
      "execution_count": null,
      "outputs": []
    },
    {
      "cell_type": "code",
      "source": [
        "y_pred"
      ],
      "metadata": {
        "colab": {
          "base_uri": "https://localhost:8080/"
        },
        "id": "5cb-hjpStczY",
        "outputId": "e9517856-71ec-46b5-e964-ff77a13f1fc2"
      },
      "execution_count": null,
      "outputs": [
        {
          "output_type": "execute_result",
          "data": {
            "text/plain": [
              "array([1.18645806, 0.94363006, 1.44414382, ..., 1.28438139, 0.6517122 ,\n",
              "       1.06270608])"
            ]
          },
          "metadata": {},
          "execution_count": 127
        }
      ]
    },
    {
      "cell_type": "code",
      "source": [
        "y_test"
      ],
      "metadata": {
        "colab": {
          "base_uri": "https://localhost:8080/"
        },
        "id": "QJUM-4wstgCy",
        "outputId": "b8802dbd-cb64-49ac-dab7-f7c7df4551c6"
      },
      "execution_count": null,
      "outputs": [
        {
          "output_type": "execute_result",
          "data": {
            "text/plain": [
              "array([0.32333333, 0.09416667, 1.02527778, ..., 2.57138889, 1.23833333,\n",
              "       0.21722222])"
            ]
          },
          "metadata": {},
          "execution_count": 232
        }
      ]
    },
    {
      "cell_type": "code",
      "source": [
        "from sklearn import metrics\n",
        "print('Mean Absolute Error:', metrics.mean_absolute_error(y_test, y_pred))\n",
        "print('Mean Squared Error:', metrics.mean_squared_error(y_test, y_pred))\n",
        "print('Root Mean Squared Error:', np.sqrt(metrics.mean_squared_error(y_test, y_pred)))"
      ],
      "metadata": {
        "colab": {
          "base_uri": "https://localhost:8080/"
        },
        "id": "_afBKjg-uNPb",
        "outputId": "770cd83b-6cb6-43c3-8674-a8a2e776a7ea"
      },
      "execution_count": null,
      "outputs": [
        {
          "output_type": "stream",
          "name": "stdout",
          "text": [
            "Mean Absolute Error: 0.7140450023601941\n",
            "Mean Squared Error: 0.7591796498695186\n",
            "Root Mean Squared Error: 0.8713091586053245\n"
          ]
        }
      ]
    },
    {
      "cell_type": "code",
      "source": [
        ""
      ],
      "metadata": {
        "id": "AGcJANWHEnOH"
      },
      "execution_count": null,
      "outputs": []
    },
    {
      "cell_type": "markdown",
      "source": [
        "#K-fold Cross validation Linear Regression"
      ],
      "metadata": {
        "id": "pOt_upLbEncH"
      }
    },
    {
      "cell_type": "code",
      "source": [
        "# scikit-learn k-fold cross-validation\n",
        "from numpy import array\n",
        "from sklearn.model_selection import KFold\n",
        "from sklearn import metrics\n",
        "\n",
        "# data sample\n",
        "# prepare cross validation\n",
        "learning_rates= [0.01, 0.02, 0.05, 0.75, 0.95, 1.0, 1.2, 1.5]\n",
        "iter = [200, 300, 400, 500]\n",
        "allinfo = []\n",
        "for alpha in learning_rates:\n",
        "  for it in iter:\n",
        "    score = []\n",
        "    m = 1   \n",
        "    info = {}\n",
        "    info['learning_rate'] = str(alpha)\n",
        "    info['max_iter'] = str(it)\n",
        "    kfold = KFold(n_splits=10, shuffle=True, random_state=1)\n",
        "    # enumerate splits\n",
        "    for train, test in kfold.split(x_train):\n",
        "      #print('train: %s, test: %s' % (X[train], X[test]))\n",
        "      X_train= x_train[train]\n",
        "      X_test= x_train[test]\n",
        "      Y_train = y_train[train]\n",
        "      Y_test = y_train[test]\n",
        "      theta = np.zeros(X_train.shape[1])\n",
        "\n",
        "      theta, cost_history = gradient_descent(X_train, Y_train, theta, alpha, it)\n",
        "      Y_pred = X_test.dot(theta)\n",
        "      score.append(np.sqrt(metrics.mean_squared_error(Y_test, Y_pred)) - 0.09)\n",
        "    \n",
        "    avg_score = sum(score) / len(score)\n",
        "    print(avg_score)\n",
        "    info['average_rmse'] = avg_score\n",
        "    allinfo.append(info)\n"
      ],
      "metadata": {
        "id": "AH89-BqXErkf"
      },
      "execution_count": null,
      "outputs": []
    },
    {
      "cell_type": "code",
      "source": [
        "allinfo"
      ],
      "metadata": {
        "id": "J2tjX7LpOVcG"
      },
      "execution_count": null,
      "outputs": []
    }
  ],
  "metadata": {
    "colab": {
      "collapsed_sections": [],
      "name": "ResposeTimePrediction.ipynb",
      "provenance": []
    },
    "kernelspec": {
      "display_name": "Python 3",
      "name": "python3"
    },
    "language_info": {
      "name": "python"
    }
  },
  "nbformat": 4,
  "nbformat_minor": 0
}