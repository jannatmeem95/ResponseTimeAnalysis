{
  "cells": [
    {
      "cell_type": "code",
      "execution_count": 1,
      "metadata": {
        "id": "YUnKf-nqHE4x"
      },
      "outputs": [],
      "source": [
        "from scipy.cluster.hierarchy import dendrogram, linkage, cut_tree\n",
        "from matplotlib import pyplot as plt\n",
        "import numpy as np"
      ]
    },
    {
      "cell_type": "code",
      "execution_count": 3,
      "metadata": {
        "colab": {
          "base_uri": "https://localhost:8080/",
          "height": 244
        },
        "id": "jSd3waj_XDGT",
        "outputId": "bfa282b5-0f4e-4e7a-b06a-09975b642907"
      },
      "outputs": [
        {
          "ename": "FileNotFoundError",
          "evalue": "ignored",
          "output_type": "error",
          "traceback": [
            "\u001b[0;31m---------------------------------------------------------------------------\u001b[0m",
            "\u001b[0;31mFileNotFoundError\u001b[0m                         Traceback (most recent call last)",
            "\u001b[0;32m<ipython-input-3-9dde16f9cc76>\u001b[0m in \u001b[0;36m<module>\u001b[0;34m()\u001b[0m\n\u001b[0;32m----> 1\u001b[0;31m \u001b[0mfile\u001b[0m \u001b[0;34m=\u001b[0m \u001b[0mopen\u001b[0m\u001b[0;34m(\u001b[0m\u001b[0;34m\"/content/sample_data/tagPairsNewSorted.csv\"\u001b[0m\u001b[0;34m,\u001b[0m \u001b[0;34m'r'\u001b[0m\u001b[0;34m)\u001b[0m\u001b[0;34m\u001b[0m\u001b[0;34m\u001b[0m\u001b[0m\n\u001b[0m\u001b[1;32m      2\u001b[0m \u001b[0;31m#file = open(\"\", 'r')\u001b[0m\u001b[0;34m\u001b[0m\u001b[0;34m\u001b[0m\u001b[0;34m\u001b[0m\u001b[0m\n\u001b[1;32m      3\u001b[0m \u001b[0mline\u001b[0m \u001b[0;34m=\u001b[0m \u001b[0mfile\u001b[0m\u001b[0;34m.\u001b[0m\u001b[0mreadline\u001b[0m\u001b[0;34m(\u001b[0m\u001b[0;34m)\u001b[0m\u001b[0;34m.\u001b[0m\u001b[0mstrip\u001b[0m\u001b[0;34m(\u001b[0m\u001b[0;34m)\u001b[0m\u001b[0;34m\u001b[0m\u001b[0;34m\u001b[0m\u001b[0m\n\u001b[1;32m      4\u001b[0m \u001b[0mprint\u001b[0m\u001b[0;34m(\u001b[0m\u001b[0mline\u001b[0m\u001b[0;34m)\u001b[0m\u001b[0;34m\u001b[0m\u001b[0;34m\u001b[0m\u001b[0m\n\u001b[1;32m      5\u001b[0m \u001b[0mi\u001b[0m\u001b[0;34m,\u001b[0m \u001b[0mj\u001b[0m \u001b[0;34m=\u001b[0m \u001b[0;36m0\u001b[0m\u001b[0;34m,\u001b[0m \u001b[0;36m0\u001b[0m\u001b[0;34m\u001b[0m\u001b[0;34m\u001b[0m\u001b[0m\n",
            "\u001b[0;31mFileNotFoundError\u001b[0m: [Errno 2] No such file or directory: '/content/sample_data/tagPairsNewSorted.csv'"
          ]
        }
      ],
      "source": [
        "file = open(\"tagPairsNewSorted.csv\", 'r')\n",
        "#file = open(\"\", 'r')\n",
        "line = file.readline().strip()\n",
        "print(line)\n",
        "i, j = 0, 0\n",
        "data = []\n",
        "label = []"
      ]
    },
    {
      "cell_type": "code",
      "execution_count": null,
      "metadata": {
        "id": "NM5XLCF1SUdg"
      },
      "outputs": [],
      "source": [
        "tag_dict={}\n",
        "for k in range(len(label)):\n",
        "  tag_dict[k]=[k]\n",
        "tag_dict\n",
        "while i < 500:\n",
        "    line = file.readline().strip().split(',')\n",
        "    count = int(line[0])\n",
        "    u, v = line[1][1:], line[2][:-1]\n",
        "    if u not in label:\n",
        "        label.append(u)\n",
        "  \n",
        "    if v not in label:\n",
        "        label.append(v)\n",
        "    \n",
        "    m, n = label.index(u), label.index(v)\n",
        "    if u not in tag_dict:\n",
        "      tag_dict[u]=[(label.index(v),count)]\n",
        "    else:\n",
        "      tag_dict[u].append((label.index(v), count))\n",
        "    \n",
        "    if v not in tag_dict:\n",
        "      tag_dict[v]=[(label.index(u), count)]\n",
        "    else:\n",
        "      tag_dict[v].append((label.index(u), count))\n",
        "\n",
        "    data.append(((m, n), float(line[0])))\n",
        "    i += 1"
      ]
    },
    {
      "cell_type": "code",
      "execution_count": null,
      "metadata": {
        "id": "rnpRW7MbbBeE"
      },
      "outputs": [],
      "source": [
        "encoded_array=np.zeros((len(label),len(label)))"
      ]
    },
    {
      "cell_type": "code",
      "execution_count": null,
      "metadata": {
        "id": "vQNSuyRLZydZ"
      },
      "outputs": [],
      "source": [
        "for key in tag_dict.keys():\n",
        "  m=label.index(key) \n",
        "  val=tag_dict[key]\n",
        "  for i in val:\n",
        "    encoded_array[m][i[0]]= i[1]"
      ]
    },
    {
      "cell_type": "code",
      "execution_count": null,
      "metadata": {
        "id": "OyTUWo41UBS6"
      },
      "outputs": [],
      "source": [
        "maxVal = np.max(encoded_array) + 10.0\n",
        "\n",
        "for i in  range(len(label)):\n",
        "  encoded_array[i][i] = maxVal\n",
        "\n",
        "encoded_array = 1.0 - encoded_array/np.max(encoded_array)\n"
      ]
    },
    {
      "cell_type": "code",
      "execution_count": null,
      "metadata": {
        "colab": {
          "base_uri": "https://localhost:8080/"
        },
        "id": "2rgyM22KlAwM",
        "outputId": "000a8b64-cf7c-4419-f986-c3a156a00334"
      },
      "outputs": [
        {
          "name": "stderr",
          "output_type": "stream",
          "text": [
            "/usr/local/lib/python3.7/dist-packages/sklearn/manifold/_t_sne.py:783: FutureWarning: The default initialization in TSNE will change from 'random' to 'pca' in 1.2.\n",
            "  FutureWarning,\n",
            "/usr/local/lib/python3.7/dist-packages/sklearn/manifold/_t_sne.py:793: FutureWarning: The default learning rate in TSNE will change from 200.0 to 'auto' in 1.2.\n",
            "  FutureWarning,\n"
          ]
        }
      ],
      "source": [
        "from sklearn.manifold import TSNE\n",
        "tsne_model = TSNE(n_components=2, metric='euclidean', perplexity = 50)\n",
        "reduced_dims_tsne = tsne_model.fit_transform(encoded_array)\n"
      ]
    },
    {
      "cell_type": "code",
      "execution_count": null,
      "metadata": {
        "id": "SdrxUjusG3FL"
      },
      "outputs": [],
      "source": [
        "%matplotlib inline\n",
        "import matplotlib.pyplot as plt\n",
        "import numpy as np\n",
        "import seaborn as sns\n",
        "import scipy as sp\n",
        "from sklearn import datasets\n",
        "from numpy import linalg as LA\n",
        "from sklearn.metrics.pairwise import pairwise_distances\n",
        "import sys"
      ]
    },
    {
      "cell_type": "code",
      "execution_count": null,
      "metadata": {
        "id": "6hXDEptlaxdW"
      },
      "outputs": [],
      "source": [
        "def cut_tree(Z, num_of_clusters, distance_matrix):\n",
        "   iteration_number = distance_matrix.shape[0] - num_of_clusters\n",
        "   clusters_label  = clusters[iteration_number]\n",
        "   return clusters_label"
      ]
    },
    {
      "cell_type": "code",
      "execution_count": null,
      "metadata": {
        "id": "gWFtyuFKlWlh"
      },
      "outputs": [],
      "source": [
        "def hierarchical_clustering(data,linkage):  \n",
        "    #form distance matrix from data\n",
        "    initial_distances = pairwise_distances(data, metric='euclidean')\n",
        "    #making all the diagonal elements infinity \n",
        "    np.fill_diagonal(initial_distances,sys.maxsize)\n",
        "    clusters = find_clusters(initial_distances,linkage) \n",
        "    return (clusters, initial_distances)"
      ]
    },
    {
      "cell_type": "code",
      "execution_count": null,
      "metadata": {
        "id": "J5egsEiglazm"
      },
      "outputs": [],
      "source": [
        "#Code Source: https://github.com/hhundiwala/hierarchical-clustering\n",
        "\n",
        "def find_clusters(input,linkage):\n",
        "    clusters = {}\n",
        "    row_index = -1\n",
        "    col_index = -1\n",
        "    array = []\n",
        "    \n",
        "\n",
        "    for n in range(input.shape[0]):\n",
        "        array.append(n)\n",
        "        \n",
        "    clusters[0] = array.copy()\n",
        "\n",
        "    #finding minimum value from the distance matrix\n",
        "    #note that this loop will always return minimum value from bottom triangle of matrix\n",
        "    for k in range(1, input.shape[0]):\n",
        "        min_val = sys.maxsize\n",
        "        \n",
        "        for i in range(0, input.shape[0]):\n",
        "            for j in range(0, input.shape[1]):\n",
        "                if(input[i][j]<=min_val):\n",
        "                    min_val = input[i][j]\n",
        "                    row_index = i\n",
        "                    col_index = j\n",
        "                    \n",
        "        #once we find the minimum value, we need to update the distance matrix\n",
        "        #updating the matrix by calculating the new distances from the cluster to all points\n",
        "        \n",
        "        #for Single Linkage\n",
        "        if(linkage == \"single\" or linkage ==\"Single\"):\n",
        "            for i in range(0,input.shape[0]):\n",
        "                if(i != col_index):\n",
        "                    #we calculate the distance of every data point from newly formed cluster and update the matrix.\n",
        "                    temp = min(input[col_index][i],input[row_index][i])\n",
        "                    #we update the matrix symmetrically as our distance matrix should always be symmetric\n",
        "                    input[col_index][i] = temp\n",
        "                    input[i][col_index] = temp\n",
        "        #for Complete Linkage\n",
        "        elif(linkage==\"Complete\" or linkage == \"complete\"):\n",
        "             for i in range(0,input.shape[0]):\n",
        "                if(i != col_index and i!=row_index):\n",
        "                    temp = min(input[col_index][i],input[row_index][i])\n",
        "                    input[col_index][i] = temp\n",
        "                    input[i][col_index] = temp\n",
        "        #for Average Linkage\n",
        "        elif(linkage==\"Average\" or linkage == \"average\"):\n",
        "             for i in range(0,input.shape[0]):\n",
        "                if(i != col_index and i!=row_index):\n",
        "                    temp = (input[col_index][i]+input[row_index][i])/2\n",
        "                    input[col_index][i] = temp\n",
        "                    input[i][col_index] = temp\n",
        "        \n",
        "        elif(linkage==\"Centroid\" or linkage ==\"centroid\"):\n",
        "            for i in range(0,input.shape[0]):\n",
        "                if(i!=col_index and i!=row_index):\n",
        "                    dist_centroid = cal_dist_from_centroid(i,row_index,col_index)\n",
        "                    input[col_index][i] = dist_centroid\n",
        "                    input[i][col_index] = dist_centroid\n",
        "                   \n",
        "        #set the rows and columns for the cluster with higher index i.e. the row index to infinity\n",
        "        #Set input[row_index][for_all_i] = infinity\n",
        "        #set input[for_all_i][row_index] = infinity\n",
        "        for i in range (0,input.shape[0]):\n",
        "            input[row_index][i] = sys.maxsize\n",
        "            input[i][row_index] = sys.maxsize\n",
        "            \n",
        "        #Manipulating the dictionary to keep track of cluster formation in each step\n",
        "        #if k=0,then all datapoints are clusters\n",
        "       \n",
        "        minimum = min(row_index,col_index)\n",
        "        maximum = max(row_index,col_index)\n",
        "        for n in range(len(array)):\n",
        "            if(array[n]==maximum):\n",
        "                array[n] = minimum\n",
        "        clusters[k] = array.copy()\n",
        "        \n",
        "    return clusters"
      ]
    },
    {
      "cell_type": "code",
      "execution_count": null,
      "metadata": {
        "id": "Wk2XKs5z2V2r"
      },
      "outputs": [],
      "source": [
        "(clusters, distance_matrix)= hierarchical_clustering(reduced_dims_tsne,\"average\")"
      ]
    },
    {
      "cell_type": "code",
      "execution_count": null,
      "metadata": {
        "colab": {
          "base_uri": "https://localhost:8080/"
        },
        "id": "0Ja17Rnd3Ck3",
        "outputId": "1b8768ba-106c-42bf-d2b1-0635b95ad8e2"
      },
      "outputs": [
        {
          "data": {
            "text/plain": [
              "array([[9.223372e+18, 9.223372e+18, 9.223372e+18, ..., 9.223372e+18,\n",
              "        9.223372e+18, 9.223372e+18],\n",
              "       [9.223372e+18, 9.223372e+18, 9.223372e+18, ..., 9.223372e+18,\n",
              "        9.223372e+18, 9.223372e+18],\n",
              "       [9.223372e+18, 9.223372e+18, 9.223372e+18, ..., 9.223372e+18,\n",
              "        9.223372e+18, 9.223372e+18],\n",
              "       ...,\n",
              "       [9.223372e+18, 9.223372e+18, 9.223372e+18, ..., 9.223372e+18,\n",
              "        9.223372e+18, 9.223372e+18],\n",
              "       [9.223372e+18, 9.223372e+18, 9.223372e+18, ..., 9.223372e+18,\n",
              "        9.223372e+18, 9.223372e+18],\n",
              "       [9.223372e+18, 9.223372e+18, 9.223372e+18, ..., 9.223372e+18,\n",
              "        9.223372e+18, 9.223372e+18]], dtype=float32)"
            ]
          },
          "execution_count": 18,
          "metadata": {},
          "output_type": "execute_result"
        }
      ],
      "source": [
        "distance_matrix"
      ]
    },
    {
      "cell_type": "code",
      "execution_count": null,
      "metadata": {
        "id": "rDYOs_Rrk-ZD"
      },
      "outputs": [],
      "source": [
        "cluster_labels=cut_tree(clusters,20 , distance_matrix)"
      ]
    },
    {
      "cell_type": "code",
      "execution_count": null,
      "metadata": {
        "colab": {
          "base_uri": "https://localhost:8080/"
        },
        "id": "K3Zsy9jZoA8h",
        "outputId": "0992ed2f-abc0-4c0c-abb0-a22c35d1eb37"
      },
      "outputs": [
        {
          "data": {
            "text/plain": [
              "0.31026524"
            ]
          },
          "execution_count": 66,
          "metadata": {},
          "output_type": "execute_result"
        }
      ],
      "source": [
        "from sklearn.metrics import silhouette_samples, silhouette_score, davies_bouldin_score\n",
        "\n",
        "print(silhouette_score(reduced_dims_tsne, cluster_labels))\n",
        "print(davies_bouldin_score(reduced_dims_tsne, cluster_labels))"
      ]
    },
    {
      "cell_type": "code",
      "execution_count": null,
      "metadata": {
        "id": "SBw4GHdKG9Ru"
      },
      "outputs": [],
      "source": [
        "\n",
        "from collections import defaultdict\n",
        "\n",
        "cluster_dict = defaultdict(list)\n",
        "\n",
        "for i in range(len(cluster_labels)):\n",
        "  cluster_dict[cluster_labels[i]].append(label[i]) \n",
        "\n"
      ]
    },
    {
      "cell_type": "code",
      "execution_count": null,
      "metadata": {
        "colab": {
          "base_uri": "https://localhost:8080/"
        },
        "id": "lTcra2eyKfEE",
        "outputId": "bf54de22-815b-462e-f845-b56775f28bd3"
      },
      "outputs": [
        {
          "data": {
            "text/plain": [
              "defaultdict(list,\n",
              "            {0: ['python', 'python3'],\n",
              "             2: ['ruby-on-rails',\n",
              "              'rails-activerecord',\n",
              "              'apache',\n",
              "              'windows',\n",
              "              'bash',\n",
              "              'shellscript',\n",
              "              'devise',\n",
              "              'nginx',\n",
              "              'batch-file',\n",
              "              'windows-10',\n",
              "              'linq',\n",
              "              'capistrano',\n",
              "              'unicorn',\n",
              "              'sh',\n",
              "              'bootstrap',\n",
              "              'google-app-engine',\n",
              "              'google-cloud',\n",
              "              '.htaccess'],\n",
              "             3: ['ruby',\n",
              "              'c++',\n",
              "              'c',\n",
              "              'rubygems',\n",
              "              'opencv',\n",
              "              'アルゴリズム',\n",
              "              'c++11',\n",
              "              'データ構造',\n",
              "              'bundler',\n",
              "              'ポインタ',\n",
              "              'boost',\n",
              "              'gcc',\n",
              "              'mfc',\n",
              "              'rbenv'],\n",
              "             4: ['swift',\n",
              "              'xcode',\n",
              "              'ios',\n",
              "              'objective-c',\n",
              "              'swift3',\n",
              "              'iphone',\n",
              "              'swift4',\n",
              "              'realm',\n",
              "              'xcode6',\n",
              "              'ios8'],\n",
              "             6: ['javascript', 'jquery', 'html', 'css', 'html5'],\n",
              "             11: ['pandas', 'numpy', 'matplotlib', 'csv'],\n",
              "             13: ['android',\n",
              "              'android-studio',\n",
              "              'kotlin',\n",
              "              'android-layout',\n",
              "              'raspberry-pi',\n",
              "              'spresense',\n",
              "              'arduino',\n",
              "              'raspbian',\n",
              "              'firebase',\n",
              "              'xml',\n",
              "              'gradle',\n",
              "              'android-fragments',\n",
              "              'webview',\n",
              "              'android-volley'],\n",
              "             14: ['java',\n",
              "              'spring',\n",
              "              'spring-boot',\n",
              "              'eclipse',\n",
              "              'emacs',\n",
              "              'elisp',\n",
              "              'java8',\n",
              "              'maven',\n",
              "              'java-ee',\n",
              "              'tomcat',\n",
              "              'servlet',\n",
              "              'jsp',\n",
              "              'swing',\n",
              "              'javafx',\n",
              "              'jpa',\n",
              "              'junit',\n",
              "              'thymeleaf'],\n",
              "             15: ['django', 'heroku', 'rspec'],\n",
              "             16: ['c#',\n",
              "              '.net',\n",
              "              'visual-studio',\n",
              "              'unity3d',\n",
              "              'wpf',\n",
              "              'asp.net',\n",
              "              'ijcad',\n",
              "              'winforms',\n",
              "              'xaml',\n",
              "              'xamarin',\n",
              "              'qt',\n",
              "              'qt-creator',\n",
              "              'mvc',\n",
              "              'vb.net'],\n",
              "             20: ['php',\n",
              "              'mysql',\n",
              "              'laravel',\n",
              "              'cakephp',\n",
              "              'sql',\n",
              "              'wordpress',\n",
              "              '正規表現',\n",
              "              'postgresql',\n",
              "              'laravel-5',\n",
              "              'symfony2',\n",
              "              'composer',\n",
              "              'pdo',\n",
              "              'uicollectionview',\n",
              "              'phpmyadmin',\n",
              "              'mariadb',\n",
              "              'xampp',\n",
              "              'uicollectionviewcell',\n",
              "              'aws-cli',\n",
              "              'zsh'],\n",
              "             23: ['monaca', 'onsen-ui', 'angularjs', 'cordova'],\n",
              "             25: ['node.js',\n",
              "              'vue.js',\n",
              "              'reactjs',\n",
              "              'typescript',\n",
              "              'nuxt.js',\n",
              "              'google-maps',\n",
              "              'npm',\n",
              "              'jquery-ui',\n",
              "              'coffeescript',\n",
              "              'webpack',\n",
              "              'promise',\n",
              "              'html5-canvas',\n",
              "              'chrome-extension',\n",
              "              'firefox',\n",
              "              'ecmascript-6',\n",
              "              'axios',\n",
              "              'react-jsx',\n",
              "              'gulp',\n",
              "              'internet-explorer',\n",
              "              'd3.js',\n",
              "              'dom',\n",
              "              'next.js',\n",
              "              '非同期',\n",
              "              'websocket',\n",
              "              'chart.js'],\n",
              "             33: ['tensorflow',\n",
              "              '機械学習',\n",
              "              'jupyter-notebook',\n",
              "              'web-scraping',\n",
              "              'keras',\n",
              "              'selenium',\n",
              "              '深層学習',\n",
              "              'google-chrome',\n",
              "              'beautifulsoup',\n",
              "              'scikit-learn',\n",
              "              'selenium-webdriver'],\n",
              "             36: ['linux',\n",
              "              'ubuntu',\n",
              "              'centos',\n",
              "              'swiftui',\n",
              "              'fuelphp',\n",
              "              'scala',\n",
              "              'playframework',\n",
              "              'swift5',\n",
              "              'spritekit',\n",
              "              'unix',\n",
              "              'storyboard',\n",
              "              'debian',\n",
              "              'yum',\n",
              "              'push-notification',\n",
              "              'sql-server',\n",
              "              'cocoapods',\n",
              "              'flutter',\n",
              "              'dart',\n",
              "              'uikit',\n",
              "              'sass',\n",
              "              'entity-framework',\n",
              "              'ssh',\n",
              "              'alamofire',\n",
              "              'filesystems',\n",
              "              'autolayout',\n",
              "              'apt',\n",
              "              '.net-core',\n",
              "              'twitter-bootstrap',\n",
              "              'http',\n",
              "              'uinavigationcontroller'],\n",
              "             42: ['anaconda',\n",
              "              'macos',\n",
              "              'vscode',\n",
              "              'powershell',\n",
              "              'google-apps-script',\n",
              "              'vagrant',\n",
              "              'virtualbox',\n",
              "              'google-spreadsheet',\n",
              "              'homebrew',\n",
              "              'unity2d'],\n",
              "             53: ['ajax', 'json', 'git', 'github', 'uitableview', 'api'],\n",
              "             54: ['swift2',\n",
              "              'aws',\n",
              "              'amazon-ec2',\n",
              "              'amazon-s3',\n",
              "              'aws-lambda',\n",
              "              'xcode7',\n",
              "              'wsl'],\n",
              "             74: ['docker', 'docker-compose'],\n",
              "             78: ['flask',\n",
              "              'tkinter',\n",
              "              'sympy',\n",
              "              'pip',\n",
              "              'pytorch',\n",
              "              '画像',\n",
              "              'chainer',\n",
              "              '自然言語処理',\n",
              "              'python2',\n",
              "              'oracle',\n",
              "              'vba',\n",
              "              'excel',\n",
              "              'google-colaboratory',\n",
              "              'pyqt',\n",
              "              'database',\n",
              "              'twitter',\n",
              "              'mecab',\n",
              "              'pyqt5',\n",
              "              'python-requests',\n",
              "              'r',\n",
              "              'network',\n",
              "              'scipy',\n",
              "              'array',\n",
              "              'tidyverse',\n",
              "              'pyside',\n",
              "              'socket',\n",
              "              'discord',\n",
              "              'pyenv',\n",
              "              'pycharm',\n",
              "              'anaconda3',\n",
              "              'sqlite',\n",
              "              'gpu',\n",
              "              'pillow']})"
            ]
          },
          "execution_count": 116,
          "metadata": {},
          "output_type": "execute_result"
        }
      ],
      "source": [
        "cluster_dict"
      ]
    },
    {
      "cell_type": "code",
      "execution_count": null,
      "metadata": {
        "colab": {
          "base_uri": "https://localhost:8080/",
          "height": 295
        },
        "id": "-_3g6uz5lLD8",
        "outputId": "2d58bd1c-01a7-45e4-fb1a-d28183c2702b"
      },
      "outputs": [
        {
          "data": {
            "image/png": "[encoded data removed]",
            "text/plain": [
              "<Figure size 432x288 with 1 Axes>"
            ]
          },
          "metadata": {
            "needs_background": "light"
          },
          "output_type": "display_data"
        }
      ],
      "source": [
        "#Silhouette Method for Finding Optimal Number of Clusters\n",
        "(clusters, distance_matrix)= hierarchical_clustering(reduced_dims_tsne,\"average\")\n",
        "#(clusters, distance_matrix)= hierarchical_clustering(reduced_dims_tsne,\"single\")\n",
        "#(clusters, distance_matrix)= hierarchical_clustering(reduced_dims_tsne,\"complete\")\n",
        "import matplotlib.pyplot as plt\n",
        "from sklearn.metrics import silhouette_samples, silhouette_score\n",
        "k_range=list(range(50 , 500 , 10))\n",
        "silhouette_avg=[]\n",
        "Sum_of_squared_distances=[]\n",
        "for num_clusters in k_range:\n",
        " \n",
        "  cluster_labels= cut_tree(clusters, num_clusters, distance_matrix)\n",
        "  silhouette_avg.append(silhouette_score(reduced_dims_tsne, cluster_labels))\n",
        "\n",
        "plt.plot(k_range,silhouette_avg,'bx-')\n",
        "plt.xlabel('Values of K') \n",
        "plt.ylabel('Silhouette Score') \n",
        "plt.title('Silhoutter method for optimal k')\n",
        "plt.show()"
      ]
    }
  ],
  "metadata": {
    "colab": {
      "collapsed_sections": [],
      "name": "HierarchialClustering.ipynb",
      "provenance": []
    },
    "kernelspec": {
      "display_name": "Python 3",
      "name": "python3"
    },
    "language_info": {
      "name": "python"
    }
  },
  "nbformat": 4,
  "nbformat_minor": 0
}
